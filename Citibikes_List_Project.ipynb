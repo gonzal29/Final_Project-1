{
  "nbformat": 4,
  "nbformat_minor": 0,
  "metadata": {
    "colab": {
      "name": "Citibikes_List.ipynb",
      "provenance": [],
      "collapsed_sections": []
    },
    "kernelspec": {
      "name": "python3",
      "display_name": "Python 3"
    },
    "language_info": {
      "name": "python"
    }
  },
  "cells": [
    {
      "cell_type": "code",
      "metadata": {
        "id": "coAy49eROdAa"
      },
      "source": [
        "import subprocess\n",
        "import numpy as np\n",
        "import pandas as pd"
      ],
      "execution_count": 1,
      "outputs": []
    },
    {
      "cell_type": "code",
      "metadata": {
        "colab": {
          "base_uri": "https://localhost:8080/",
          "height": 202
        },
        "id": "FY6KIBbdOkjI",
        "outputId": "c2ab4da3-a6aa-40ab-95d6-0fd298ba5935"
      },
      "source": [
        "dfUrls = pd.read_csv(\"urls_to_get.csv\")\n",
        "dfUrls.head()"
      ],
      "execution_count": 2,
      "outputs": [
        {
          "output_type": "execute_result",
          "data": {
            "text/html": [
              "<div>\n",
              "<style scoped>\n",
              "    .dataframe tbody tr th:only-of-type {\n",
              "        vertical-align: middle;\n",
              "    }\n",
              "\n",
              "    .dataframe tbody tr th {\n",
              "        vertical-align: top;\n",
              "    }\n",
              "\n",
              "    .dataframe thead th {\n",
              "        text-align: right;\n",
              "    }\n",
              "</style>\n",
              "<table border=\"1\" class=\"dataframe\">\n",
              "  <thead>\n",
              "    <tr style=\"text-align: right;\">\n",
              "      <th></th>\n",
              "      <th>urls</th>\n",
              "    </tr>\n",
              "  </thead>\n",
              "  <tbody>\n",
              "    <tr>\n",
              "      <th>0</th>\n",
              "      <td>https://s3.amazonaws.com/tripdata/201901-citib...</td>\n",
              "    </tr>\n",
              "    <tr>\n",
              "      <th>1</th>\n",
              "      <td>https://s3.amazonaws.com/tripdata/201902-citib...</td>\n",
              "    </tr>\n",
              "    <tr>\n",
              "      <th>2</th>\n",
              "      <td>https://s3.amazonaws.com/tripdata/201903-citib...</td>\n",
              "    </tr>\n",
              "    <tr>\n",
              "      <th>3</th>\n",
              "      <td>https://s3.amazonaws.com/tripdata/201904-citib...</td>\n",
              "    </tr>\n",
              "    <tr>\n",
              "      <th>4</th>\n",
              "      <td>https://s3.amazonaws.com/tripdata/201905-citib...</td>\n",
              "    </tr>\n",
              "  </tbody>\n",
              "</table>\n",
              "</div>"
            ],
            "text/plain": [
              "                                                urls\n",
              "0  https://s3.amazonaws.com/tripdata/201901-citib...\n",
              "1  https://s3.amazonaws.com/tripdata/201902-citib...\n",
              "2  https://s3.amazonaws.com/tripdata/201903-citib...\n",
              "3  https://s3.amazonaws.com/tripdata/201904-citib...\n",
              "4  https://s3.amazonaws.com/tripdata/201905-citib..."
            ]
          },
          "metadata": {
            "tags": []
          },
          "execution_count": 2
        }
      ]
    },
    {
      "cell_type": "code",
      "metadata": {
        "colab": {
          "base_uri": "https://localhost:8080/",
          "height": 309
        },
        "id": "Tr-wzQ9Ao-dR",
        "outputId": "1d156b03-fcc1-4e56-ddf7-9be410bd01cb"
      },
      "source": [
        "dfWeather = pd.read_csv(\"Weather_Results.csv\")\n",
        "dfWeather.head()"
      ],
      "execution_count": null,
      "outputs": [
        {
          "output_type": "execute_result",
          "data": {
            "text/html": [
              "<div>\n",
              "<style scoped>\n",
              "    .dataframe tbody tr th:only-of-type {\n",
              "        vertical-align: middle;\n",
              "    }\n",
              "\n",
              "    .dataframe tbody tr th {\n",
              "        vertical-align: top;\n",
              "    }\n",
              "\n",
              "    .dataframe thead th {\n",
              "        text-align: right;\n",
              "    }\n",
              "</style>\n",
              "<table border=\"1\" class=\"dataframe\">\n",
              "  <thead>\n",
              "    <tr style=\"text-align: right;\">\n",
              "      <th></th>\n",
              "      <th>Type</th>\n",
              "      <th>Severity</th>\n",
              "      <th>StartTime(UTC)</th>\n",
              "      <th>EndTime(UTC)</th>\n",
              "      <th>LocationLat</th>\n",
              "      <th>LocationLng</th>\n",
              "      <th>City</th>\n",
              "      <th>County</th>\n",
              "      <th>State</th>\n",
              "      <th>ZipCode</th>\n",
              "    </tr>\n",
              "  </thead>\n",
              "  <tbody>\n",
              "    <tr>\n",
              "      <th>0</th>\n",
              "      <td>Cold</td>\n",
              "      <td>Severe</td>\n",
              "      <td>1/7/2016 13:55</td>\n",
              "      <td>1/7/2016 14:15</td>\n",
              "      <td>42.1534</td>\n",
              "      <td>-79.258</td>\n",
              "      <td>Jamestown</td>\n",
              "      <td>Chautauqua</td>\n",
              "      <td>NY</td>\n",
              "      <td>14701</td>\n",
              "    </tr>\n",
              "    <tr>\n",
              "      <th>1</th>\n",
              "      <td>Cold</td>\n",
              "      <td>Severe</td>\n",
              "      <td>1/20/2016 17:35</td>\n",
              "      <td>1/20/2016 17:55</td>\n",
              "      <td>42.1534</td>\n",
              "      <td>-79.258</td>\n",
              "      <td>Jamestown</td>\n",
              "      <td>Chautauqua</td>\n",
              "      <td>NY</td>\n",
              "      <td>14701</td>\n",
              "    </tr>\n",
              "    <tr>\n",
              "      <th>2</th>\n",
              "      <td>Cold</td>\n",
              "      <td>Severe</td>\n",
              "      <td>1/22/2016 17:35</td>\n",
              "      <td>1/22/2016 17:55</td>\n",
              "      <td>42.1534</td>\n",
              "      <td>-79.258</td>\n",
              "      <td>Jamestown</td>\n",
              "      <td>Chautauqua</td>\n",
              "      <td>NY</td>\n",
              "      <td>14701</td>\n",
              "    </tr>\n",
              "    <tr>\n",
              "      <th>3</th>\n",
              "      <td>Cold</td>\n",
              "      <td>Severe</td>\n",
              "      <td>1/22/2016 18:15</td>\n",
              "      <td>1/22/2016 18:35</td>\n",
              "      <td>42.1534</td>\n",
              "      <td>-79.258</td>\n",
              "      <td>Jamestown</td>\n",
              "      <td>Chautauqua</td>\n",
              "      <td>NY</td>\n",
              "      <td>14701</td>\n",
              "    </tr>\n",
              "    <tr>\n",
              "      <th>4</th>\n",
              "      <td>Cold</td>\n",
              "      <td>Severe</td>\n",
              "      <td>2/16/2016 10:55</td>\n",
              "      <td>2/16/2016 11:15</td>\n",
              "      <td>42.1534</td>\n",
              "      <td>-79.258</td>\n",
              "      <td>Jamestown</td>\n",
              "      <td>Chautauqua</td>\n",
              "      <td>NY</td>\n",
              "      <td>14701</td>\n",
              "    </tr>\n",
              "  </tbody>\n",
              "</table>\n",
              "</div>"
            ],
            "text/plain": [
              "   Type Severity   StartTime(UTC)  ...      County  State  ZipCode\n",
              "0  Cold   Severe   1/7/2016 13:55  ...  Chautauqua     NY    14701\n",
              "1  Cold   Severe  1/20/2016 17:35  ...  Chautauqua     NY    14701\n",
              "2  Cold   Severe  1/22/2016 17:35  ...  Chautauqua     NY    14701\n",
              "3  Cold   Severe  1/22/2016 18:15  ...  Chautauqua     NY    14701\n",
              "4  Cold   Severe  2/16/2016 10:55  ...  Chautauqua     NY    14701\n",
              "\n",
              "[5 rows x 10 columns]"
            ]
          },
          "metadata": {
            "tags": []
          },
          "execution_count": 5
        }
      ]
    },
    {
      "cell_type": "code",
      "metadata": {
        "colab": {
          "base_uri": "https://localhost:8080/"
        },
        "id": "ouIlZ-0VhCo8",
        "outputId": "5af038c8-d473-4216-90f1-7c2e69054acc"
      },
      "source": [
        "for i,row in dfUrls.iterrows():\n",
        "  print(row['urls'])\n",
        "  subprocess.run(['wget',row['urls']])\n",
        "  subprocess.run(['unzip',row['urls'].split(\"/\")[-1]])"
      ],
      "execution_count": 3,
      "outputs": [
        {
          "output_type": "stream",
          "text": [
            "https://s3.amazonaws.com/tripdata/201901-citibike-tripdata.csv.zip\n",
            "https://s3.amazonaws.com/tripdata/201902-citibike-tripdata.csv.zip\n",
            "https://s3.amazonaws.com/tripdata/201903-citibike-tripdata.csv.zip\n",
            "https://s3.amazonaws.com/tripdata/201904-citibike-tripdata.csv.zip\n",
            "https://s3.amazonaws.com/tripdata/201905-citibike-tripdata.csv.zip\n",
            "https://s3.amazonaws.com/tripdata/201906-citibike-tripdata.csv.zip\n",
            "https://s3.amazonaws.com/tripdata/201907-citibike-tripdata.csv.zip\n",
            "https://s3.amazonaws.com/tripdata/201908-citibike-tripdata.csv.zip\n",
            "https://s3.amazonaws.com/tripdata/201909-citibike-tripdata.csv.zip\n",
            "https://s3.amazonaws.com/tripdata/201910-citibike-tripdata.csv.zip\n",
            "https://s3.amazonaws.com/tripdata/201911-citibike-tripdata.csv.zip\n",
            "https://s3.amazonaws.com/tripdata/201912-citibike-tripdata.csv.zip\n"
          ],
          "name": "stdout"
        }
      ]
    },
    {
      "cell_type": "code",
      "metadata": {
        "id": "tHjjyhligtCj"
      },
      "source": [
        "result = subprocess.run([\"ls\"],capture_output=True,text=True)"
      ],
      "execution_count": 4,
      "outputs": []
    },
    {
      "cell_type": "code",
      "metadata": {
        "colab": {
          "base_uri": "https://localhost:8080/"
        },
        "id": "savtFb0ikuW5",
        "outputId": "69a76686-38c1-4976-fce3-7a304ce49296"
      },
      "source": [
        "import os\n",
        "# Find the latest version of spark 3.0  from http://www-us.apache.org/dist/spark/ and enter as the spark version\n",
        "# For example:\n",
        "# spark_version = 'spark-3.0.2'\n",
        "spark_version = 'spark-3.1.1'\n",
        "os.environ['SPARK_VERSION']=spark_version\n",
        "# Install Spark and Java\n",
        "!apt-get update\n",
        "!apt-get install openjdk-11-jdk-headless -qq > /dev/null\n",
        "!wget -q http://www-us.apache.org/dist/spark/$SPARK_VERSION/$SPARK_VERSION-bin-hadoop2.7.tgz\n",
        "!tar xf $SPARK_VERSION-bin-hadoop2.7.tgz\n",
        "!pip install -q findspark\n",
        "# Set Environment Variables\n",
        "os.environ[\"JAVA_HOME\"] = \"/usr/lib/jvm/java-11-openjdk-amd64\"\n",
        "os.environ[\"SPARK_HOME\"] = f\"/content/{spark_version}-bin-hadoop2.7\"\n",
        "# Start a SparkSession\n",
        "import findspark\n",
        "findspark.init()"
      ],
      "execution_count": 5,
      "outputs": [
        {
          "output_type": "stream",
          "text": [
            "\r0% [Working]\r            \rHit:1 http://archive.ubuntu.com/ubuntu bionic InRelease\n",
            "\r0% [Connecting to security.ubuntu.com (91.189.91.38)] [Connected to cloud.r-pro\r                                                                               \rGet:2 http://archive.ubuntu.com/ubuntu bionic-updates InRelease [88.7 kB]\n",
            "\r                                                                               \rGet:3 https://cloud.r-project.org/bin/linux/ubuntu bionic-cran40/ InRelease [3,626 B]\n",
            "\r                                                                               \rGet:4 http://ppa.launchpad.net/c2d4u.team/c2d4u4.0+/ubuntu bionic InRelease [15.9 kB]\n",
            "\r                                                                               \rHit:5 http://ppa.launchpad.net/cran/libgit2/ubuntu bionic InRelease\n",
            "\r0% [Waiting for headers] [Connecting to security.ubuntu.com (91.189.91.38)] [Wa\r0% [1 InRelease gpgv 242 kB] [Waiting for headers] [Connecting to security.ubun\r                                                                               \rGet:6 http://archive.ubuntu.com/ubuntu bionic-backports InRelease [74.6 kB]\n",
            "\r0% [1 InRelease gpgv 242 kB] [6 InRelease 20.0 kB/74.6 kB 27%] [Connecting to s\r                                                                               \rHit:7 http://ppa.launchpad.net/deadsnakes/ppa/ubuntu bionic InRelease\n",
            "Get:8 http://ppa.launchpad.net/graphics-drivers/ppa/ubuntu bionic InRelease [21.3 kB]\n",
            "Get:9 http://security.ubuntu.com/ubuntu bionic-security InRelease [88.7 kB]\n",
            "Ign:10 https://developer.download.nvidia.com/compute/cuda/repos/ubuntu1804/x86_64  InRelease\n",
            "Ign:11 https://developer.download.nvidia.com/compute/machine-learning/repos/ubuntu1804/x86_64  InRelease\n",
            "Get:12 https://developer.download.nvidia.com/compute/cuda/repos/ubuntu1804/x86_64  Release [697 B]\n",
            "Hit:13 https://developer.download.nvidia.com/compute/machine-learning/repos/ubuntu1804/x86_64  Release\n",
            "Get:14 https://developer.download.nvidia.com/compute/cuda/repos/ubuntu1804/x86_64  Release.gpg [836 B]\n",
            "Get:15 http://archive.ubuntu.com/ubuntu bionic-updates/restricted amd64 Packages [452 kB]\n",
            "Get:16 http://archive.ubuntu.com/ubuntu bionic-updates/main amd64 Packages [2,584 kB]\n",
            "Get:17 http://archive.ubuntu.com/ubuntu bionic-updates/universe amd64 Packages [2,184 kB]\n",
            "Get:18 https://cloud.r-project.org/bin/linux/ubuntu bionic-cran40/ Packages [60.9 kB]\n",
            "Get:19 http://ppa.launchpad.net/c2d4u.team/c2d4u4.0+/ubuntu bionic/main Sources [1,770 kB]\n",
            "Get:20 http://ppa.launchpad.net/c2d4u.team/c2d4u4.0+/ubuntu bionic/main amd64 Packages [906 kB]\n",
            "Get:21 http://ppa.launchpad.net/graphics-drivers/ppa/ubuntu bionic/main amd64 Packages [41.5 kB]\n",
            "Ign:23 https://developer.download.nvidia.com/compute/cuda/repos/ubuntu1804/x86_64  Packages\n",
            "Get:23 https://developer.download.nvidia.com/compute/cuda/repos/ubuntu1804/x86_64  Packages [798 kB]\n",
            "Get:24 http://security.ubuntu.com/ubuntu bionic-security/restricted amd64 Packages [423 kB]\n",
            "Get:25 http://security.ubuntu.com/ubuntu bionic-security/universe amd64 Packages [1,413 kB]\n",
            "Get:26 http://security.ubuntu.com/ubuntu bionic-security/main amd64 Packages [2,152 kB]\n",
            "Fetched 13.1 MB in 3s (4,348 kB/s)\n",
            "Reading package lists... Done\n"
          ],
          "name": "stdout"
        }
      ]
    },
    {
      "cell_type": "code",
      "metadata": {
        "id": "cHybaISon2_G"
      },
      "source": [
        "df_01 = \"201901-citibike-tripdata.csv\"\n",
        "df_02 = \"201902-citibike-tripdata.csv\"\n",
        "df_03 = \"201903-citibike-tripdata.csv\"\n",
        "df_04 = \"201904-citibike-tripdata.csv\"\n",
        "df_05 = \"201905-citibike-tripdata.csv\"\n",
        "df_06 = \"201906-citibike-tripdata.csv\"\n",
        "df_07 = \"201907-citibike-tripdata.csv\"\n",
        "df_08 = \"201908-citibike-tripdata.csv\"\n",
        "df_09 = \"201909-citibike-tripdata.csv\"\n",
        "df_10 = \"201910-citibike-tripdata.csv\"\n",
        "df_11 = \"201911-citibike-tripdata.csv\"\n",
        "df_12 = \"201912-citibike-tripdata.csv\""
      ],
      "execution_count": 6,
      "outputs": []
    },
    {
      "cell_type": "code",
      "metadata": {
        "id": "Fzq_jGHowtDN",
        "colab": {
          "base_uri": "https://localhost:8080/"
        },
        "outputId": "988996e4-5b14-4fce-f313-e5e04f818201"
      },
      "source": [
        "csv_list = [df_01,df_02,df_03,df_04,df_05,df_06,df_07,df_08,df_09,df_10,df_11,df_12]\n",
        "csv_list"
      ],
      "execution_count": 7,
      "outputs": [
        {
          "output_type": "execute_result",
          "data": {
            "text/plain": [
              "['201901-citibike-tripdata.csv',\n",
              " '201902-citibike-tripdata.csv',\n",
              " '201903-citibike-tripdata.csv',\n",
              " '201904-citibike-tripdata.csv',\n",
              " '201905-citibike-tripdata.csv',\n",
              " '201906-citibike-tripdata.csv',\n",
              " '201907-citibike-tripdata.csv',\n",
              " '201908-citibike-tripdata.csv',\n",
              " '201909-citibike-tripdata.csv',\n",
              " '201910-citibike-tripdata.csv',\n",
              " '201911-citibike-tripdata.csv',\n",
              " '201912-citibike-tripdata.csv']"
            ]
          },
          "metadata": {
            "tags": []
          },
          "execution_count": 7
        }
      ]
    },
    {
      "cell_type": "code",
      "metadata": {
        "id": "Nq5VT70jm6jR"
      },
      "source": [
        "from pyspark import SparkFiles\n",
        "from pyspark.sql import SparkSession\n",
        "spark = SparkSession.builder.appName(\"CitiBikeFinal\").getOrCreate()\n",
        "#The odd columns hash is where the column names are not matching with most of the other dataframes\n",
        "url = f\"/content/{csv_list[0]}\"\n",
        "spark.sparkContext.addFile(url)\n",
        "df = spark.read.csv(SparkFiles.get(csv_list[0]), header=True, inferSchema=True, timestampFormat=\"yyyy-MM-dd HH:mm:ss:ms\")"
      ],
      "execution_count": 8,
      "outputs": []
    },
    {
      "cell_type": "code",
      "metadata": {
        "colab": {
          "base_uri": "https://localhost:8080/"
        },
        "id": "6IMpywL1noW5",
        "outputId": "0ea4fc41-3071-4851-b541-bc2cc9b80cbe"
      },
      "source": [
        "citibikeSchema=df.schema\n",
        "for csvfile in csv_list[1:]:\n",
        "    fileloc = f\"/content/{csvfile}\"\n",
        "    print(\"Loading: \"+fileloc)   \n",
        "    spark.sparkContext.addFile(fileloc)\n",
        "    df2 = spark.read.csv(SparkFiles.get(csvfile), header=True, schema=citibikeSchema)\n",
        "    # Important!!!\n",
        "    df = df.union(df2)\n",
        "    "
      ],
      "execution_count": 9,
      "outputs": [
        {
          "output_type": "stream",
          "text": [
            "Loading: /content/201902-citibike-tripdata.csv\n",
            "Loading: /content/201903-citibike-tripdata.csv\n",
            "Loading: /content/201904-citibike-tripdata.csv\n",
            "Loading: /content/201905-citibike-tripdata.csv\n",
            "Loading: /content/201906-citibike-tripdata.csv\n",
            "Loading: /content/201907-citibike-tripdata.csv\n",
            "Loading: /content/201908-citibike-tripdata.csv\n",
            "Loading: /content/201909-citibike-tripdata.csv\n",
            "Loading: /content/201910-citibike-tripdata.csv\n",
            "Loading: /content/201911-citibike-tripdata.csv\n",
            "Loading: /content/201912-citibike-tripdata.csv\n"
          ],
          "name": "stdout"
        }
      ]
    },
    {
      "cell_type": "code",
      "metadata": {
        "id": "AtLhY8_-TKzf"
      },
      "source": [
        "df =df.dropna()"
      ],
      "execution_count": 10,
      "outputs": []
    },
    {
      "cell_type": "code",
      "metadata": {
        "colab": {
          "base_uri": "https://localhost:8080/"
        },
        "id": "gYmGHTqbfPeL",
        "outputId": "c021ccc0-60ec-4c5b-f3d0-b6533edce50d"
      },
      "source": [
        "# Show the hour for the date column\n",
        "from pyspark.sql.functions import hour\n",
        "df.select(hour(df[\"starttime\"]))"
      ],
      "execution_count": null,
      "outputs": [
        {
          "output_type": "execute_result",
          "data": {
            "text/plain": [
              "DataFrame[hour(starttime): int]"
            ]
          },
          "metadata": {
            "tags": []
          },
          "execution_count": 14
        }
      ]
    },
    {
      "cell_type": "code",
      "metadata": {
        "id": "zN_lFOkBi8IX"
      },
      "source": [
        "df = df.withColumn(\"hour\", hour(df['starttime']))"
      ],
      "execution_count": null,
      "outputs": []
    },
    {
      "cell_type": "code",
      "metadata": {
        "colab": {
          "base_uri": "https://localhost:8080/"
        },
        "id": "27R5X_O8WX9s",
        "outputId": "6c329dbc-c2ad-4887-badc-4fdcc59afd66"
      },
      "source": [
        "df_morning= df.filter(df['starttime'] >= '2019-01-01').filter(df['hour'] < '4').show()"
      ],
      "execution_count": null,
      "outputs": [
        {
          "output_type": "stream",
          "text": [
            "+------------+--------------------+--------------------+----------------+--------------------+----------------------+-----------------------+--------------+--------------------+--------------------+---------------------+------+----------+----------+------+----+\n",
            "|tripduration|           starttime|            stoptime|start station id|  start station name|start station latitude|start station longitude|end station id|    end station name|end station latitude|end station longitude|bikeid|  usertype|birth year|gender|hour|\n",
            "+------------+--------------------+--------------------+----------------+--------------------+----------------------+-----------------------+--------------+--------------------+--------------------+---------------------+------+----------+----------+------+----+\n",
            "|         320|2019-01-01 00:01:...|2019-01-01 00:07:...|            3160|Central Park West...|           40.77896784|           -73.97374737|          3283|W 89 St & Columbu...|          40.7882213|         -73.97041561| 15839|Subscriber|      1971|     1|   0|\n",
            "|         316|2019-01-01 00:04:...|2019-01-01 00:10:...|             519|Pershing Square N...|             40.751873|             -73.977706|           518|     E 39 St & 2 Ave|         40.74780373|          -73.9734419| 32723|Subscriber|      1964|     1|   0|\n",
            "|         591|2019-01-01 00:06:...|2019-01-01 00:15:...|            3171|Amsterdam Ave & W...|           40.78524672|           -73.97667321|          3154|     E 77 St & 3 Ave|         40.77314236|         -73.95856158| 27451|Subscriber|      1987|     1|   0|\n",
            "|        2719|2019-01-01 00:07:...|2019-01-01 00:52:...|             504|     1 Ave & E 16 St|           40.73221853|           -73.98165557|          3709|     W 15 St & 6 Ave|  40.738046142482766|   -73.99642959237099| 21579|Subscriber|      1990|     1|   0|\n",
            "|         303|2019-01-01 00:07:...|2019-01-01 00:12:...|             229|      Great Jones St|           40.72743423|           -73.99379025|           503|  E 20 St & Park Ave|         40.73827428|         -73.98751968| 35379|Subscriber|      1979|     1|   0|\n",
            "|         535|2019-01-01 00:08:...|2019-01-01 00:17:...|            3630|Frederick Douglas...|            40.8038654|            -73.9559308|          3529|Lenox Ave & W 130 St|          40.8107922|          -73.9430681| 30315|Subscriber|      1989|     2|   0|\n",
            "|         280|2019-01-01 00:09:...|2019-01-01 00:14:...|            3675|     3 Ave & E 95 St|    40.784596798848916|     -73.94968539476395|          3288|     E 88 St & 1 Ave|           40.778301|          -73.9488134| 35391|Subscriber|      1987|     1|   0|\n",
            "|        1547|2019-01-01 00:11:...|2019-01-01 00:37:...|             285|  Broadway & E 14 St|           40.73454567|           -73.99074142|          3358| Garfield Pl & 8 Ave|          40.6711978|         -73.97484126| 35551|Subscriber|      1981|     1|   0|\n",
            "|         300|2019-01-01 00:12:...|2019-01-01 00:17:...|            3394|Columbia St & W 9 St|            40.6769993|           -74.00647134|          3398|     Smith St & 9 St|          40.6746957|         -73.99785768| 18636|Subscriber|      1990|     2|   0|\n",
            "|         123|2019-01-01 00:12:...|2019-01-01 00:14:...|             432|   E 7 St & Avenue A|           40.72621788|           -73.98379855|          3656|   E 2 St & Avenue A|   40.72307749068673|   -73.98583620786667| 35206|Subscriber|      1987|     1|   0|\n",
            "|         932|2019-01-01 00:14:...|2019-01-01 00:29:...|             379|     W 31 St & 7 Ave|             40.749156|               -73.9916|           336|Sullivan St & Was...|         40.73047747|         -73.99906065| 35148|Subscriber|      1986|     1|   0|\n",
            "|         209|2019-01-01 00:15:...|2019-01-01 00:18:...|             438| St Marks Pl & 1 Ave|           40.72779126|           -73.98564945|           301|   E 2 St & Avenue B|         40.72217444|         -73.98368779| 34416|Subscriber|      1998|     2|   0|\n",
            "|         976|2019-01-01 00:15:...|2019-01-01 00:31:...|            3452|Bayard St & Leona...|     40.71915571696044|     -73.94885390996933|           251| Mott St & Prince St|         40.72317958|         -73.99480012| 35685|Subscriber|      1994|     1|   0|\n",
            "|          97|2019-01-01 00:15:...|2019-01-01 00:17:...|            3430|Richardson St & N...|     40.71907891179564|     -73.94223690032959|          3095|Graham Ave & Herb...|         40.71929301|         -73.94500379| 34307|Subscriber|      1988|     1|   0|\n",
            "|         467|2019-01-01 00:16:...|2019-01-01 00:24:...|             507|     E 25 St & 2 Ave|           40.73912601|           -73.97973776|           492|     W 33 St & 7 Ave|         40.75019995|         -73.99093085| 35561|Subscriber|      1989|     1|   0|\n",
            "|         348|2019-01-01 00:17:...|2019-01-01 00:23:...|            3095|Graham Ave & Herb...|           40.71929301|           -73.94500379|          3101|N 12 St & Bedford...|         40.72079821|         -73.95484712| 35695|Subscriber|      1988|     1|   0|\n",
            "|         505|2019-01-01 00:18:...|2019-01-01 00:27:...|            3132|E 59 St & Madison...|           40.76350532|           -73.97109243|           359|  E 47 St & Park Ave|         40.75510267|         -73.97498696| 31801|Subscriber|      1981|     1|   0|\n",
            "|        3494|2019-01-01 00:18:...|2019-01-01 01:17:...|            3171|Amsterdam Ave & W...|           40.78524672|           -73.97667321|          3164|Columbus Ave & W ...|          40.7770575|         -73.97898475| 35785|Subscriber|      1954|     1|   0|\n",
            "|         829|2019-01-01 00:19:...|2019-01-01 00:32:...|            3165|Central Park West...|     40.77579376683666|      -73.9762057363987|          3295|Central Park W & ...|            40.79127|           -73.964839| 32106|Subscriber|      1969|     0|   0|\n",
            "|         451|2019-01-01 00:21:...|2019-01-01 00:28:...|             403|      E 2 St & 2 Ave|           40.72502876|           -73.99069656|           545|     E 23 St & 1 Ave|           40.736502|         -73.97809472| 32038|Subscriber|      1985|     1|   0|\n",
            "+------------+--------------------+--------------------+----------------+--------------------+----------------------+-----------------------+--------------+--------------------+--------------------+---------------------+------+----------+----------+------+----+\n",
            "only showing top 20 rows\n",
            "\n"
          ],
          "name": "stdout"
        }
      ]
    },
    {
      "cell_type": "code",
      "metadata": {
        "id": "RtMnclC6kiKM"
      },
      "source": [
        "morning_count = df.filter(df['starttime'] >= '2019-01-01').filter(df['hour'] < '4')"
      ],
      "execution_count": null,
      "outputs": []
    },
    {
      "cell_type": "code",
      "metadata": {
        "colab": {
          "base_uri": "https://localhost:8080/"
        },
        "id": "G69ky656mv6h",
        "outputId": "01268444-8217-4cb4-9a64-abeedc8c0a9d"
      },
      "source": [
        "morning_count.groupBy(morning_count['usertype']).count().show()"
      ],
      "execution_count": null,
      "outputs": [
        {
          "output_type": "stream",
          "text": [
            "+----------+------+\n",
            "|  usertype| count|\n",
            "+----------+------+\n",
            "|Subscriber|322412|\n",
            "|  Customer| 74022|\n",
            "+----------+------+\n",
            "\n"
          ],
          "name": "stdout"
        }
      ]
    },
    {
      "cell_type": "code",
      "metadata": {
        "colab": {
          "base_uri": "https://localhost:8080/"
        },
        "id": "VnLB5uwQGUjx",
        "outputId": "ffda1126-190c-436b-998e-6d918cb24450"
      },
      "source": [
        "morn_count = morning_count.orderBy('usertype').groupBy('hour').count()\n",
        "morn_count.show()"
      ],
      "execution_count": null,
      "outputs": [
        {
          "output_type": "stream",
          "text": [
            "+----+------+\n",
            "|hour| count|\n",
            "+----+------+\n",
            "|   1|105233|\n",
            "|   3| 41559|\n",
            "|   2| 64308|\n",
            "|   0|185334|\n",
            "+----+------+\n",
            "\n"
          ],
          "name": "stdout"
        }
      ]
    },
    {
      "cell_type": "code",
      "metadata": {
        "id": "iMgOL4mSoD7I"
      },
      "source": [
        "morning_count_02 = df.filter(df['starttime'] >= '2019-01-01').filter(df['hour'] >= '4').filter(df['hour'] < '8')"
      ],
      "execution_count": null,
      "outputs": []
    },
    {
      "cell_type": "code",
      "metadata": {
        "colab": {
          "base_uri": "https://localhost:8080/"
        },
        "id": "jHvBqSNdoQkC",
        "outputId": "b6493910-91f3-4773-e0d8-078cedab224f"
      },
      "source": [
        "morning_count_02.groupBy(morning_count['usertype']).count().show()"
      ],
      "execution_count": null,
      "outputs": [
        {
          "output_type": "stream",
          "text": [
            "+----------+-------+\n",
            "|  usertype|  count|\n",
            "+----------+-------+\n",
            "|Subscriber|1492045|\n",
            "|  Customer|  69165|\n",
            "+----------+-------+\n",
            "\n"
          ],
          "name": "stdout"
        }
      ]
    },
    {
      "cell_type": "code",
      "metadata": {
        "colab": {
          "base_uri": "https://localhost:8080/"
        },
        "id": "eW8I4y_lHvaZ",
        "outputId": "bdde204f-f36e-4fe3-d12e-1f64a8655530"
      },
      "source": [
        "morn_count_02 = morning_count_02.orderBy('usertype').groupBy('hour').count()\n",
        "morn_count_02.show()"
      ],
      "execution_count": null,
      "outputs": [
        {
          "output_type": "stream",
          "text": [
            "+----+------+\n",
            "|hour| count|\n",
            "+----+------+\n",
            "|   6|443047|\n",
            "|   5|139887|\n",
            "|   4| 44897|\n",
            "|   7|933379|\n",
            "+----+------+\n",
            "\n"
          ],
          "name": "stdout"
        }
      ]
    },
    {
      "cell_type": "code",
      "metadata": {
        "id": "oyhnkN0PrLKu"
      },
      "source": [
        "afternoon_count = df.filter(df['starttime'] >= '2019-01-01').filter(df['hour'] >= '8').filter(df['hour'] < '12')"
      ],
      "execution_count": null,
      "outputs": []
    },
    {
      "cell_type": "code",
      "metadata": {
        "colab": {
          "base_uri": "https://localhost:8080/"
        },
        "id": "QQ7tmwvcrTIs",
        "outputId": "d6da5a38-5b36-4a67-c92f-453778857cd2"
      },
      "source": [
        "afternoon_count.groupBy(morning_count['usertype']).count().show()"
      ],
      "execution_count": null,
      "outputs": [
        {
          "output_type": "stream",
          "text": [
            "+----------+-------+\n",
            "|  usertype|  count|\n",
            "+----------+-------+\n",
            "|Subscriber|4335299|\n",
            "|  Customer| 517028|\n",
            "+----------+-------+\n",
            "\n"
          ],
          "name": "stdout"
        }
      ]
    },
    {
      "cell_type": "code",
      "metadata": {
        "colab": {
          "base_uri": "https://localhost:8080/"
        },
        "id": "bfVH24MGJDCK",
        "outputId": "889357b9-d113-45e3-9a5c-a2f90eb77ad3"
      },
      "source": [
        "after_count = afternoon_count.orderBy('usertype').groupBy('hour').count()\n",
        "after_count.show()"
      ],
      "execution_count": null,
      "outputs": [
        {
          "output_type": "stream",
          "text": [
            "+----+-------+\n",
            "|hour|  count|\n",
            "+----+-------+\n",
            "|   9|1308178|\n",
            "|   8|1626764|\n",
            "|  10| 939101|\n",
            "|  11| 978284|\n",
            "+----+-------+\n",
            "\n"
          ],
          "name": "stdout"
        }
      ]
    },
    {
      "cell_type": "code",
      "metadata": {
        "id": "u1olAQQesKJn"
      },
      "source": [
        "afternoon_count_02 = df.filter(df['starttime'] >= '2019-01-01').filter(df['hour'] >= '12').filter(df['hour'] < '16')"
      ],
      "execution_count": null,
      "outputs": []
    },
    {
      "cell_type": "code",
      "metadata": {
        "colab": {
          "base_uri": "https://localhost:8080/"
        },
        "id": "9M0yVeRksUxV",
        "outputId": "92ab02da-ddd3-41f7-f5bf-a111e2c0618c"
      },
      "source": [
        "afternoon_count_02.groupBy(morning_count['usertype']).count().show()"
      ],
      "execution_count": null,
      "outputs": [
        {
          "output_type": "stream",
          "text": [
            "+----------+-------+\n",
            "|  usertype|  count|\n",
            "+----------+-------+\n",
            "|Subscriber|3794533|\n",
            "|  Customer| 966961|\n",
            "+----------+-------+\n",
            "\n"
          ],
          "name": "stdout"
        }
      ]
    },
    {
      "cell_type": "code",
      "metadata": {
        "colab": {
          "base_uri": "https://localhost:8080/"
        },
        "id": "qR0EvMHsJMqU",
        "outputId": "c21e04fa-100d-4e10-b576-3c8b0a6702a9"
      },
      "source": [
        "after_count_02 = afternoon_count_02.orderBy('usertype').groupBy('hour').count()\n",
        "after_count_02.show()"
      ],
      "execution_count": null,
      "outputs": [
        {
          "output_type": "stream",
          "text": [
            "+----+-------+\n",
            "|hour|  count|\n",
            "+----+-------+\n",
            "|  12|1122549|\n",
            "|  13|1163987|\n",
            "|  15|1270208|\n",
            "|  14|1204750|\n",
            "+----+-------+\n",
            "\n"
          ],
          "name": "stdout"
        }
      ]
    },
    {
      "cell_type": "code",
      "metadata": {
        "id": "3BjQCFzIs152"
      },
      "source": [
        "night_count = df.filter(df['starttime'] >= '2019-01-01').filter(df['hour'] >= '16').filter(df['hour'] < '20')"
      ],
      "execution_count": null,
      "outputs": []
    },
    {
      "cell_type": "code",
      "metadata": {
        "colab": {
          "base_uri": "https://localhost:8080/"
        },
        "id": "Cdw_XZlqs-9y",
        "outputId": "12f807bf-4617-4597-8b9d-e3443faf0b43"
      },
      "source": [
        "night_count.groupBy(morning_count['usertype']).count().show()"
      ],
      "execution_count": null,
      "outputs": [
        {
          "output_type": "stream",
          "text": [
            "+----------+-------+\n",
            "|  usertype|  count|\n",
            "+----------+-------+\n",
            "|Subscriber|5742166|\n",
            "|  Customer| 910988|\n",
            "+----------+-------+\n",
            "\n"
          ],
          "name": "stdout"
        }
      ]
    },
    {
      "cell_type": "code",
      "metadata": {
        "colab": {
          "base_uri": "https://localhost:8080/"
        },
        "id": "QbMBPuXAJTpI",
        "outputId": "3a3d2a26-99c3-4ece-cde6-a6dbb2260aed"
      },
      "source": [
        "nigh_count = night_count.orderBy('usertype').groupBy('hour').count()\n",
        "nigh_count.show()"
      ],
      "execution_count": null,
      "outputs": [
        {
          "output_type": "stream",
          "text": [
            "+----+-------+\n",
            "|hour|  count|\n",
            "+----+-------+\n",
            "|  16|1458398|\n",
            "|  19|1314576|\n",
            "|  17|2002482|\n",
            "|  18|1877698|\n",
            "+----+-------+\n",
            "\n"
          ],
          "name": "stdout"
        }
      ]
    },
    {
      "cell_type": "code",
      "metadata": {
        "id": "LP0uVdmYtc-1"
      },
      "source": [
        "night_count_02 = df.filter(df['starttime'] >= '2019-01-01').filter(df['hour'] >= '20').filter(df['hour'] < '24')"
      ],
      "execution_count": null,
      "outputs": []
    },
    {
      "cell_type": "code",
      "metadata": {
        "colab": {
          "base_uri": "https://localhost:8080/"
        },
        "id": "XJVO4YYNtjpS",
        "outputId": "b97bd802-a3fd-4061-d06d-7b65f060ae28"
      },
      "source": [
        "night_count_02.groupBy(morning_count['usertype']).count().show()"
      ],
      "execution_count": null,
      "outputs": [
        {
          "output_type": "stream",
          "text": [
            "+----------+-------+\n",
            "|  usertype|  count|\n",
            "+----------+-------+\n",
            "|Subscriber|1993066|\n",
            "|  Customer| 334012|\n",
            "+----------+-------+\n",
            "\n"
          ],
          "name": "stdout"
        }
      ]
    },
    {
      "cell_type": "code",
      "metadata": {
        "colab": {
          "base_uri": "https://localhost:8080/"
        },
        "id": "IF1RjIseJsz7",
        "outputId": "245e919e-d674-473c-c7b5-2649f3b33922"
      },
      "source": [
        "nigh_count_02 = night_count_02.orderBy('usertype').groupBy('hour').count()\n",
        "nigh_count_02.show()"
      ],
      "execution_count": null,
      "outputs": [
        {
          "output_type": "stream",
          "text": [
            "+----+------+\n",
            "|hour| count|\n",
            "+----+------+\n",
            "|  22|477420|\n",
            "|  20|899364|\n",
            "|  23|318139|\n",
            "|  21|632155|\n",
            "+----+------+\n",
            "\n"
          ],
          "name": "stdout"
        }
      ]
    },
    {
      "cell_type": "code",
      "metadata": {
        "colab": {
          "base_uri": "https://localhost:8080/"
        },
        "id": "2DaXnrQbux-Y",
        "outputId": "b78f9d70-b84b-496f-8bcf-fde0900158b3"
      },
      "source": [
        "all_count = df.orderBy('usertype').groupBy('hour').count()\n",
        "all_count.show()"
      ],
      "execution_count": null,
      "outputs": [
        {
          "output_type": "stream",
          "text": [
            "+----+-------+\n",
            "|hour|  count|\n",
            "+----+-------+\n",
            "|  12|1122549|\n",
            "|  22| 477420|\n",
            "|   1| 105233|\n",
            "|  13|1163987|\n",
            "|   6| 443047|\n",
            "|  16|1458398|\n",
            "|   3|  41559|\n",
            "|  20| 899364|\n",
            "|   5| 139887|\n",
            "|  19|1314576|\n",
            "|  15|1270208|\n",
            "|   9|1308178|\n",
            "|  17|2002482|\n",
            "|   4|  44897|\n",
            "|   8|1626764|\n",
            "|  23| 318139|\n",
            "|   7| 933379|\n",
            "|  10| 939101|\n",
            "|  21| 632155|\n",
            "|  11| 978284|\n",
            "+----+-------+\n",
            "only showing top 20 rows\n",
            "\n"
          ],
          "name": "stdout"
        }
      ]
    },
    {
      "cell_type": "code",
      "metadata": {
        "id": "m-VetC4GznaJ"
      },
      "source": [
        "count_df = all_count.toPandas()"
      ],
      "execution_count": null,
      "outputs": []
    },
    {
      "cell_type": "code",
      "metadata": {
        "colab": {
          "base_uri": "https://localhost:8080/",
          "height": 311
        },
        "id": "JybnR9cy0E97",
        "outputId": "803dd753-a74c-429c-be2d-7cced6c9d86e"
      },
      "source": [
        "import matplotlib.pyplot as plt\n",
        "count_df = count_df.sort_values(\"hour\", ascending=True)\n",
        "count_df.set_index(\"hour\", inplace=True)\n",
        "count_df.plot.bar()"
      ],
      "execution_count": null,
      "outputs": [
        {
          "output_type": "execute_result",
          "data": {
            "text/plain": [
              "<matplotlib.axes._subplots.AxesSubplot at 0x7f79e88ad790>"
            ]
          },
          "metadata": {
            "tags": []
          },
          "execution_count": 53
        },
        {
          "output_type": "display_data",
          "data": {
            "image/png": "[encoded data removed]",
            "text/plain": [
              "<Figure size 432x288 with 1 Axes>"
            ]
          },
          "metadata": {
            "tags": [],
            "needs_background": "light"
          }
        }
      ]
    },
    {
      "cell_type": "code",
      "metadata": {
        "colab": {
          "base_uri": "https://localhost:8080/"
        },
        "id": "wMTXywzAwz3d",
        "outputId": "cd71dcf5-47c5-4540-8c98-4a97317092ca"
      },
      "source": [
        "user_count = df.groupBy('usertype').count().show()\n",
        "user_count"
      ],
      "execution_count": null,
      "outputs": [
        {
          "output_type": "stream",
          "text": [
            "+----------+--------+\n",
            "|  usertype|   count|\n",
            "+----------+--------+\n",
            "|Subscriber|17679521|\n",
            "|  Customer| 2872176|\n",
            "+----------+--------+\n",
            "\n"
          ],
          "name": "stdout"
        }
      ]
    },
    {
      "cell_type": "code",
      "metadata": {
        "id": "8ymqA_JWuDKf"
      },
      "source": [
        "import matplotlib.pyplot as plt\n",
        "counts = df.orderBy('birth year').groupBy('gender').count()"
      ],
      "execution_count": null,
      "outputs": []
    },
    {
      "cell_type": "code",
      "metadata": {
        "colab": {
          "base_uri": "https://localhost:8080/"
        },
        "id": "kvoB05hrznTu",
        "outputId": "5e90fcda-893c-4d7d-e711-189ed0ddd82d"
      },
      "source": [
        "counts.show()"
      ],
      "execution_count": null,
      "outputs": [
        {
          "output_type": "stream",
          "text": [
            "+------+--------+\n",
            "|gender|   count|\n",
            "+------+--------+\n",
            "|     1|14052393|\n",
            "|     2| 4938996|\n",
            "|     0| 1560308|\n",
            "+------+--------+\n",
            "\n"
          ],
          "name": "stdout"
        }
      ]
    },
    {
      "cell_type": "code",
      "metadata": {
        "id": "E4f4LJAhv8M0"
      },
      "source": [
        "pie_df = counts.toPandas()"
      ],
      "execution_count": null,
      "outputs": []
    },
    {
      "cell_type": "code",
      "metadata": {
        "colab": {
          "base_uri": "https://localhost:8080/",
          "height": 248
        },
        "id": "5aTHjJWpwJDR",
        "outputId": "13bf1a93-8e14-443e-8316-04be50802eb1"
      },
      "source": [
        "import matplotlib.pyplot as plt\n",
        "plt.pie(pie_df['count'].values,labels=[\"Man\",\"Woman\",\"Other\"],autopct='%1.1f%%')\n",
        "plt.show()"
      ],
      "execution_count": null,
      "outputs": [
        {
          "output_type": "display_data",
          "data": {
            "image/png": "[encoded data removed]",
            "text/plain": [
              "<Figure size 432x288 with 1 Axes>"
            ]
          },
          "metadata": {
            "tags": []
          }
        }
      ]
    },
    {
      "cell_type": "code",
      "metadata": {
        "colab": {
          "base_uri": "https://localhost:8080/"
        },
        "id": "GkaL99SL2eh0",
        "outputId": "37229c8b-3514-433f-d01d-df07871b8562"
      },
      "source": [
        "# Show the month for the date column\n",
        "from pyspark.sql.functions import month\n",
        "df.select(month(df[\"starttime\"]))"
      ],
      "execution_count": null,
      "outputs": [
        {
          "output_type": "execute_result",
          "data": {
            "text/plain": [
              "DataFrame[month(starttime): int]"
            ]
          },
          "metadata": {
            "tags": []
          },
          "execution_count": 56
        }
      ]
    },
    {
      "cell_type": "code",
      "metadata": {
        "id": "_qylCmpw2oJF"
      },
      "source": [
        "df = df.withColumn(\"month\", month(df['starttime']))"
      ],
      "execution_count": null,
      "outputs": []
    },
    {
      "cell_type": "code",
      "metadata": {
        "colab": {
          "base_uri": "https://localhost:8080/"
        },
        "id": "EmNmALgw2zuZ",
        "outputId": "bb2deef7-b09d-4542-942e-2ff6c8fac532"
      },
      "source": [
        "import matplotlib.pyplot as plt\n",
        "month_count = df.orderBy('month').groupBy('month').count()\n",
        "month_count.show()"
      ],
      "execution_count": null,
      "outputs": [
        {
          "output_type": "stream",
          "text": [
            "+-----+-------+\n",
            "|month|  count|\n",
            "+-----+-------+\n",
            "|   12| 955210|\n",
            "|    1| 967287|\n",
            "|    6|2125370|\n",
            "|    3|1327960|\n",
            "|    5|1924563|\n",
            "|    9|2444900|\n",
            "|    4|1766094|\n",
            "|    8|2344224|\n",
            "|    7|2181064|\n",
            "|   10|2092573|\n",
            "|   11|1478708|\n",
            "|    2| 943744|\n",
            "+-----+-------+\n",
            "\n"
          ],
          "name": "stdout"
        }
      ]
    },
    {
      "cell_type": "code",
      "metadata": {
        "id": "x03Ot8RL7Ak7"
      },
      "source": [
        "bar_df = month_count.toPandas()"
      ],
      "execution_count": null,
      "outputs": []
    },
    {
      "cell_type": "code",
      "metadata": {
        "id": "ZXNGwU7p46k1"
      },
      "source": [
        "bar_df = bar_df.sort_values(\"month\", ascending=True)"
      ],
      "execution_count": null,
      "outputs": []
    },
    {
      "cell_type": "code",
      "metadata": {
        "colab": {
          "base_uri": "https://localhost:8080/",
          "height": 311
        },
        "id": "He4oS7_73-8p",
        "outputId": "71a9715e-95ac-4f27-a681-1c34266f23ef"
      },
      "source": [
        "import matplotlib.pyplot as plt\n",
        "bar_df.set_index(\"month\", inplace=True)\n",
        "bar_df.plot.bar()"
      ],
      "execution_count": null,
      "outputs": [
        {
          "output_type": "execute_result",
          "data": {
            "text/plain": [
              "<matplotlib.axes._subplots.AxesSubplot at 0x7fbb7e498b50>"
            ]
          },
          "metadata": {
            "tags": []
          },
          "execution_count": 119
        },
        {
          "output_type": "display_data",
          "data": {
            "image/png": "[encoded data removed]",
            "text/plain": [
              "<Figure size 432x288 with 1 Axes>"
            ]
          },
          "metadata": {
            "tags": [],
            "needs_background": "light"
          }
        }
      ]
    },
    {
      "cell_type": "code",
      "metadata": {
        "colab": {
          "base_uri": "https://localhost:8080/"
        },
        "id": "UBbX5ua5uJAb",
        "outputId": "28992e7f-8d94-4f20-c79b-f995b068bbba"
      },
      "source": [
        "df.select(\"tripduration\").describe().show()"
      ],
      "execution_count": 25,
      "outputs": [
        {
          "output_type": "stream",
          "text": [
            "+-------+------------------+\n",
            "|summary|      tripduration|\n",
            "+-------+------------------+\n",
            "|  count|          20551697|\n",
            "|   mean| 978.2454970020237|\n",
            "| stddev|10553.040176545659|\n",
            "|    min|                61|\n",
            "|    max|           3812666|\n",
            "+-------+------------------+\n",
            "\n"
          ],
          "name": "stdout"
        }
      ]
    }
  ]
}