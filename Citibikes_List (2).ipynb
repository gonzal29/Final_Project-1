{
  "nbformat": 4,
  "nbformat_minor": 0,
  "metadata": {
    "colab": {
      "name": "Citibikes_List.ipynb",
      "provenance": [],
      "collapsed_sections": []
    },
    "kernelspec": {
      "name": "python3",
      "display_name": "Python 3"
    },
    "language_info": {
      "name": "python"
    }
  },
  "cells": [
    {
      "cell_type": "code",
      "metadata": {
        "id": "coAy49eROdAa"
      },
      "source": [
        "import subprocess\n",
        "import numpy as np\n",
        "import pandas as pd"
      ],
      "execution_count": 1,
      "outputs": []
    },
    {
      "cell_type": "code",
      "metadata": {
        "colab": {
          "base_uri": "https://localhost:8080/",
          "height": 202
        },
        "id": "FY6KIBbdOkjI",
        "outputId": "ef84c473-b982-4a79-8a51-015dcaa2aecb"
      },
      "source": [
        "dfUrls = pd.read_csv(\"urls_to_get.csv\")\n",
        "dfUrls.head()"
      ],
      "execution_count": 3,
      "outputs": [
        {
          "output_type": "execute_result",
          "data": {
            "text/html": [
              "<div>\n",
              "<style scoped>\n",
              "    .dataframe tbody tr th:only-of-type {\n",
              "        vertical-align: middle;\n",
              "    }\n",
              "\n",
              "    .dataframe tbody tr th {\n",
              "        vertical-align: top;\n",
              "    }\n",
              "\n",
              "    .dataframe thead th {\n",
              "        text-align: right;\n",
              "    }\n",
              "</style>\n",
              "<table border=\"1\" class=\"dataframe\">\n",
              "  <thead>\n",
              "    <tr style=\"text-align: right;\">\n",
              "      <th></th>\n",
              "      <th>urls</th>\n",
              "    </tr>\n",
              "  </thead>\n",
              "  <tbody>\n",
              "    <tr>\n",
              "      <th>0</th>\n",
              "      <td>https://s3.amazonaws.com/tripdata/201901-citib...</td>\n",
              "    </tr>\n",
              "    <tr>\n",
              "      <th>1</th>\n",
              "      <td>https://s3.amazonaws.com/tripdata/201902-citib...</td>\n",
              "    </tr>\n",
              "    <tr>\n",
              "      <th>2</th>\n",
              "      <td>https://s3.amazonaws.com/tripdata/201903-citib...</td>\n",
              "    </tr>\n",
              "    <tr>\n",
              "      <th>3</th>\n",
              "      <td>https://s3.amazonaws.com/tripdata/201904-citib...</td>\n",
              "    </tr>\n",
              "    <tr>\n",
              "      <th>4</th>\n",
              "      <td>https://s3.amazonaws.com/tripdata/201905-citib...</td>\n",
              "    </tr>\n",
              "  </tbody>\n",
              "</table>\n",
              "</div>"
            ],
            "text/plain": [
              "                                                urls\n",
              "0  https://s3.amazonaws.com/tripdata/201901-citib...\n",
              "1  https://s3.amazonaws.com/tripdata/201902-citib...\n",
              "2  https://s3.amazonaws.com/tripdata/201903-citib...\n",
              "3  https://s3.amazonaws.com/tripdata/201904-citib...\n",
              "4  https://s3.amazonaws.com/tripdata/201905-citib..."
            ]
          },
          "metadata": {
            "tags": []
          },
          "execution_count": 3
        }
      ]
    },
    {
      "cell_type": "code",
      "metadata": {
        "colab": {
          "base_uri": "https://localhost:8080/"
        },
        "id": "ouIlZ-0VhCo8",
        "outputId": "14fa9e78-aa4d-446c-e11a-c33288f46055"
      },
      "source": [
        "for i,row in dfUrls.iterrows():\n",
        "  print(row['urls'])\n",
        "  subprocess.run(['wget',row['urls']])\n",
        "  subprocess.run(['unzip',row['urls'].split(\"/\")[-1]])"
      ],
      "execution_count": 4,
      "outputs": [
        {
          "output_type": "stream",
          "text": [
            "https://s3.amazonaws.com/tripdata/201901-citibike-tripdata.csv.zip\n",
            "https://s3.amazonaws.com/tripdata/201902-citibike-tripdata.csv.zip\n",
            "https://s3.amazonaws.com/tripdata/201903-citibike-tripdata.csv.zip\n",
            "https://s3.amazonaws.com/tripdata/201904-citibike-tripdata.csv.zip\n",
            "https://s3.amazonaws.com/tripdata/201905-citibike-tripdata.csv.zip\n",
            "https://s3.amazonaws.com/tripdata/201906-citibike-tripdata.csv.zip\n",
            "https://s3.amazonaws.com/tripdata/201907-citibike-tripdata.csv.zip\n",
            "https://s3.amazonaws.com/tripdata/201908-citibike-tripdata.csv.zip\n",
            "https://s3.amazonaws.com/tripdata/201909-citibike-tripdata.csv.zip\n",
            "https://s3.amazonaws.com/tripdata/201910-citibike-tripdata.csv.zip\n",
            "https://s3.amazonaws.com/tripdata/201911-citibike-tripdata.csv.zip\n",
            "https://s3.amazonaws.com/tripdata/201912-citibike-tripdata.csv.zip\n"
          ],
          "name": "stdout"
        }
      ]
    },
    {
      "cell_type": "code",
      "metadata": {
        "id": "tHjjyhligtCj"
      },
      "source": [
        "result = subprocess.run([\"ls\"],capture_output=True,text=True)"
      ],
      "execution_count": 5,
      "outputs": []
    },
    {
      "cell_type": "code",
      "metadata": {
        "colab": {
          "base_uri": "https://localhost:8080/"
        },
        "id": "savtFb0ikuW5",
        "outputId": "1a48ef04-46ea-4a22-9de8-1001a83498fc"
      },
      "source": [
        "import os\n",
        "# Find the latest version of spark 3.0  from http://www-us.apache.org/dist/spark/ and enter as the spark version\n",
        "# For example:\n",
        "# spark_version = 'spark-3.0.2'\n",
        "spark_version = 'spark-3.1.1'\n",
        "os.environ['SPARK_VERSION']=spark_version\n",
        "# Install Spark and Java\n",
        "!apt-get update\n",
        "!apt-get install openjdk-11-jdk-headless -qq > /dev/null\n",
        "!wget -q http://www-us.apache.org/dist/spark/$SPARK_VERSION/$SPARK_VERSION-bin-hadoop2.7.tgz\n",
        "!tar xf $SPARK_VERSION-bin-hadoop2.7.tgz\n",
        "!pip install -q findspark\n",
        "# Set Environment Variables\n",
        "os.environ[\"JAVA_HOME\"] = \"/usr/lib/jvm/java-11-openjdk-amd64\"\n",
        "os.environ[\"SPARK_HOME\"] = f\"/content/{spark_version}-bin-hadoop2.7\"\n",
        "# Start a SparkSession\n",
        "import findspark\n",
        "findspark.init()"
      ],
      "execution_count": 6,
      "outputs": [
        {
          "output_type": "stream",
          "text": [
            "\r0% [Working]\r            \rGet:1 http://security.ubuntu.com/ubuntu bionic-security InRelease [88.7 kB]\n",
            "\r0% [Connecting to archive.ubuntu.com (91.189.88.152)] [1 InRelease 14.2 kB/88.7\r                                                                               \rGet:2 https://cloud.r-project.org/bin/linux/ubuntu bionic-cran40/ InRelease [3,626 B]\n",
            "Ign:3 https://developer.download.nvidia.com/compute/cuda/repos/ubuntu1804/x86_64  InRelease\n",
            "Get:4 http://ppa.launchpad.net/c2d4u.team/c2d4u4.0+/ubuntu bionic InRelease [15.9 kB]\n",
            "Hit:5 http://archive.ubuntu.com/ubuntu bionic InRelease\n",
            "Ign:6 https://developer.download.nvidia.com/compute/machine-learning/repos/ubuntu1804/x86_64  InRelease\n",
            "Get:7 https://developer.download.nvidia.com/compute/cuda/repos/ubuntu1804/x86_64  Release [697 B]\n",
            "Hit:8 https://developer.download.nvidia.com/compute/machine-learning/repos/ubuntu1804/x86_64  Release\n",
            "Get:9 https://developer.download.nvidia.com/compute/cuda/repos/ubuntu1804/x86_64  Release.gpg [836 B]\n",
            "Get:10 http://archive.ubuntu.com/ubuntu bionic-updates InRelease [88.7 kB]\n",
            "Get:11 https://cloud.r-project.org/bin/linux/ubuntu bionic-cran40/ Packages [60.9 kB]\n",
            "Hit:12 http://ppa.launchpad.net/cran/libgit2/ubuntu bionic InRelease\n",
            "Get:13 http://archive.ubuntu.com/ubuntu bionic-backports InRelease [74.6 kB]\n",
            "Hit:14 http://ppa.launchpad.net/deadsnakes/ppa/ubuntu bionic InRelease\n",
            "Get:15 http://security.ubuntu.com/ubuntu bionic-security/universe amd64 Packages [1,413 kB]\n",
            "Get:16 http://security.ubuntu.com/ubuntu bionic-security/restricted amd64 Packages [423 kB]\n",
            "Get:17 http://ppa.launchpad.net/graphics-drivers/ppa/ubuntu bionic InRelease [21.3 kB]\n",
            "Get:18 http://security.ubuntu.com/ubuntu bionic-security/main amd64 Packages [2,152 kB]\n",
            "Ign:20 https://developer.download.nvidia.com/compute/cuda/repos/ubuntu1804/x86_64  Packages\n",
            "Get:20 https://developer.download.nvidia.com/compute/cuda/repos/ubuntu1804/x86_64  Packages [798 kB]\n",
            "Get:21 http://ppa.launchpad.net/c2d4u.team/c2d4u4.0+/ubuntu bionic/main Sources [1,769 kB]\n",
            "Get:22 http://archive.ubuntu.com/ubuntu bionic-updates/restricted amd64 Packages [452 kB]\n",
            "Get:23 http://archive.ubuntu.com/ubuntu bionic-updates/universe amd64 Packages [2,184 kB]\n",
            "Get:24 http://ppa.launchpad.net/c2d4u.team/c2d4u4.0+/ubuntu bionic/main amd64 Packages [905 kB]\n",
            "Get:25 http://archive.ubuntu.com/ubuntu bionic-updates/main amd64 Packages [2,584 kB]\n",
            "Get:26 http://ppa.launchpad.net/graphics-drivers/ppa/ubuntu bionic/main amd64 Packages [41.5 kB]\n",
            "Fetched 13.1 MB in 3s (3,962 kB/s)\n",
            "Reading package lists... Done\n"
          ],
          "name": "stdout"
        }
      ]
    },
    {
      "cell_type": "code",
      "metadata": {
        "id": "cHybaISon2_G"
      },
      "source": [
        "df_01 = \"201901-citibike-tripdata.csv\"\n",
        "df_02 = \"201902-citibike-tripdata.csv\"\n",
        "df_03 = \"201903-citibike-tripdata.csv\"\n",
        "df_04 = \"201904-citibike-tripdata.csv\"\n",
        "df_05 = \"201905-citibike-tripdata.csv\"\n",
        "df_06 = \"201906-citibike-tripdata.csv\"\n",
        "df_07 = \"201907-citibike-tripdata.csv\"\n",
        "df_08 = \"201908-citibike-tripdata.csv\"\n",
        "df_09 = \"201909-citibike-tripdata.csv\"\n",
        "df_10 = \"201910-citibike-tripdata.csv\"\n",
        "df_11 = \"201911-citibike-tripdata.csv\"\n",
        "df_12 = \"201912-citibike-tripdata.csv\""
      ],
      "execution_count": 70,
      "outputs": []
    },
    {
      "cell_type": "code",
      "metadata": {
        "id": "Fzq_jGHowtDN",
        "colab": {
          "base_uri": "https://localhost:8080/"
        },
        "outputId": "a9759e75-9dc8-4239-e3e1-3d6610c23a68"
      },
      "source": [
        "csv_list = [df_01,df_02,df_03,df_04,df_05,df_06,df_07,df_08,df_09,df_10,df_11,df_12]\n",
        "csv_list"
      ],
      "execution_count": 71,
      "outputs": [
        {
          "output_type": "execute_result",
          "data": {
            "text/plain": [
              "['201901-citibike-tripdata.csv',\n",
              " '201902-citibike-tripdata.csv',\n",
              " '201903-citibike-tripdata.csv',\n",
              " '201904-citibike-tripdata.csv',\n",
              " '201905-citibike-tripdata.csv',\n",
              " '201906-citibike-tripdata.csv',\n",
              " '201907-citibike-tripdata.csv',\n",
              " '201908-citibike-tripdata.csv',\n",
              " '201909-citibike-tripdata.csv',\n",
              " '201910-citibike-tripdata.csv',\n",
              " '201911-citibike-tripdata.csv',\n",
              " '201912-citibike-tripdata.csv']"
            ]
          },
          "metadata": {
            "tags": []
          },
          "execution_count": 71
        }
      ]
    },
    {
      "cell_type": "code",
      "metadata": {
        "id": "Nq5VT70jm6jR"
      },
      "source": [
        "from pyspark import SparkFiles\n",
        "from pyspark.sql import SparkSession\n",
        "spark = SparkSession.builder.appName(\"CitiBikeFinal\").getOrCreate()\n",
        "#The odd columns hash is where the column names are not matching with most of the other dataframes\n",
        "url = f\"/content/{csv_list[0]}\"\n",
        "spark.sparkContext.addFile(url)\n",
        "df = spark.read.csv(SparkFiles.get(csv_list[0]), header=True, inferSchema=True, timestampFormat=\"yyyy-MM-dd HH:mm:ss:ms\")"
      ],
      "execution_count": 72,
      "outputs": []
    },
    {
      "cell_type": "code",
      "metadata": {
        "id": "XW5kiptPuQgI"
      },
      "source": [
        "# df_string.describe().show()"
      ],
      "execution_count": 31,
      "outputs": []
    },
    {
      "cell_type": "code",
      "metadata": {
        "colab": {
          "base_uri": "https://localhost:8080/"
        },
        "id": "6IMpywL1noW5",
        "outputId": "6814d131-1df4-4448-d263-5eb8e6a956fd"
      },
      "source": [
        "citibikeSchema=df.schema\n",
        "for csvfile in csv_list[1:]:\n",
        "    fileloc = f\"/content/{csvfile}\"\n",
        "    print(\"Loading: \"+fileloc)   \n",
        "    spark.sparkContext.addFile(fileloc)\n",
        "    df2 = spark.read.csv(SparkFiles.get(csvfile), header=True, schema=citibikeSchema)\n",
        "    # Important!!!\n",
        "    df = df.union(df2)\n",
        "    "
      ],
      "execution_count": 75,
      "outputs": [
        {
          "output_type": "stream",
          "text": [
            "Loading: /content/201902-citibike-tripdata.csv\n",
            "Loading: /content/201903-citibike-tripdata.csv\n",
            "Loading: /content/201904-citibike-tripdata.csv\n",
            "Loading: /content/201905-citibike-tripdata.csv\n",
            "Loading: /content/201906-citibike-tripdata.csv\n",
            "Loading: /content/201907-citibike-tripdata.csv\n",
            "Loading: /content/201908-citibike-tripdata.csv\n",
            "Loading: /content/201909-citibike-tripdata.csv\n",
            "Loading: /content/201910-citibike-tripdata.csv\n",
            "Loading: /content/201911-citibike-tripdata.csv\n",
            "Loading: /content/201912-citibike-tripdata.csv\n"
          ],
          "name": "stdout"
        }
      ]
    },
    {
      "cell_type": "code",
      "metadata": {
        "id": "lXgksQdMPTX6"
      },
      "source": [
        "df.printSchema()"
      ],
      "execution_count": 30,
      "outputs": []
    },
    {
      "cell_type": "code",
      "metadata": {
        "id": "AtLhY8_-TKzf"
      },
      "source": [
        "df =df.dropna()"
      ],
      "execution_count": 76,
      "outputs": []
    },
    {
      "cell_type": "code",
      "metadata": {
        "colab": {
          "base_uri": "https://localhost:8080/"
        },
        "id": "G3wdAcR-TdEW",
        "outputId": "7046e123-abb2-4099-dee4-12bdb48df1f3"
      },
      "source": [
        "df.drop_duplicates().groupBy('usertype').count().show()"
      ],
      "execution_count": 77,
      "outputs": [
        {
          "output_type": "stream",
          "text": [
            "+----------+--------+\n",
            "|  usertype|   count|\n",
            "+----------+--------+\n",
            "|Subscriber|17679521|\n",
            "|  Customer| 2872176|\n",
            "+----------+--------+\n",
            "\n"
          ],
          "name": "stdout"
        }
      ]
    },
    {
      "cell_type": "code",
      "metadata": {
        "id": "64CFl5bKXJmX"
      },
      "source": [
        "# df_morning= df.filter(df['starttime'] >= '2019-01-01').filter(df['starttime'] >= '03:59:59.0000').show()\n",
        "# df_morning"
      ],
      "execution_count": 128,
      "outputs": []
    },
    {
      "cell_type": "code",
      "metadata": {
        "colab": {
          "base_uri": "https://localhost:8080/"
        },
        "id": "gYmGHTqbfPeL",
        "outputId": "c4f3e2e5-2f2e-4a5a-9022-2bdd32b76b08"
      },
      "source": [
        "# Show the hour for the date column\n",
        "from pyspark.sql.functions import hour\n",
        "df.select(hour(df[\"starttime\"]))"
      ],
      "execution_count": 117,
      "outputs": [
        {
          "output_type": "execute_result",
          "data": {
            "text/plain": [
              "DataFrame[hour(starttime): int]"
            ]
          },
          "metadata": {
            "tags": []
          },
          "execution_count": 117
        }
      ]
    },
    {
      "cell_type": "code",
      "metadata": {
        "id": "zN_lFOkBi8IX"
      },
      "source": [
        "df = df.withColumn(\"hour\", hour(df['starttime']))"
      ],
      "execution_count": 116,
      "outputs": []
    },
    {
      "cell_type": "code",
      "metadata": {
        "colab": {
          "base_uri": "https://localhost:8080/"
        },
        "id": "27R5X_O8WX9s",
        "outputId": "102e1975-f78b-405f-9bfa-9cfe520813d2"
      },
      "source": [
        "df_morning= df.filter(df['starttime'] >= '2019-01-01').filter(df['hour'] < '4').show()"
      ],
      "execution_count": 111,
      "outputs": [
        {
          "output_type": "stream",
          "text": [
            "+------------+--------------------+--------------------+----------------+--------------------+----------------------+-----------------------+--------------+--------------------+--------------------+---------------------+------+----------+----------+------+----+\n",
            "|tripduration|           starttime|            stoptime|start station id|  start station name|start station latitude|start station longitude|end station id|    end station name|end station latitude|end station longitude|bikeid|  usertype|birth year|gender|hour|\n",
            "+------------+--------------------+--------------------+----------------+--------------------+----------------------+-----------------------+--------------+--------------------+--------------------+---------------------+------+----------+----------+------+----+\n",
            "|         320|2019-01-01 00:01:...|2019-01-01 00:07:...|            3160|Central Park West...|           40.77896784|           -73.97374737|          3283|W 89 St & Columbu...|          40.7882213|         -73.97041561| 15839|Subscriber|      1971|     1|   0|\n",
            "|         316|2019-01-01 00:04:...|2019-01-01 00:10:...|             519|Pershing Square N...|             40.751873|             -73.977706|           518|     E 39 St & 2 Ave|         40.74780373|          -73.9734419| 32723|Subscriber|      1964|     1|   0|\n",
            "|         591|2019-01-01 00:06:...|2019-01-01 00:15:...|            3171|Amsterdam Ave & W...|           40.78524672|           -73.97667321|          3154|     E 77 St & 3 Ave|         40.77314236|         -73.95856158| 27451|Subscriber|      1987|     1|   0|\n",
            "|        2719|2019-01-01 00:07:...|2019-01-01 00:52:...|             504|     1 Ave & E 16 St|           40.73221853|           -73.98165557|          3709|     W 15 St & 6 Ave|  40.738046142482766|   -73.99642959237099| 21579|Subscriber|      1990|     1|   0|\n",
            "|         303|2019-01-01 00:07:...|2019-01-01 00:12:...|             229|      Great Jones St|           40.72743423|           -73.99379025|           503|  E 20 St & Park Ave|         40.73827428|         -73.98751968| 35379|Subscriber|      1979|     1|   0|\n",
            "|         535|2019-01-01 00:08:...|2019-01-01 00:17:...|            3630|Frederick Douglas...|            40.8038654|            -73.9559308|          3529|Lenox Ave & W 130 St|          40.8107922|          -73.9430681| 30315|Subscriber|      1989|     2|   0|\n",
            "|         280|2019-01-01 00:09:...|2019-01-01 00:14:...|            3675|     3 Ave & E 95 St|    40.784596798848916|     -73.94968539476395|          3288|     E 88 St & 1 Ave|           40.778301|          -73.9488134| 35391|Subscriber|      1987|     1|   0|\n",
            "|        1547|2019-01-01 00:11:...|2019-01-01 00:37:...|             285|  Broadway & E 14 St|           40.73454567|           -73.99074142|          3358| Garfield Pl & 8 Ave|          40.6711978|         -73.97484126| 35551|Subscriber|      1981|     1|   0|\n",
            "|         300|2019-01-01 00:12:...|2019-01-01 00:17:...|            3394|Columbia St & W 9 St|            40.6769993|           -74.00647134|          3398|     Smith St & 9 St|          40.6746957|         -73.99785768| 18636|Subscriber|      1990|     2|   0|\n",
            "|         123|2019-01-01 00:12:...|2019-01-01 00:14:...|             432|   E 7 St & Avenue A|           40.72621788|           -73.98379855|          3656|   E 2 St & Avenue A|   40.72307749068673|   -73.98583620786667| 35206|Subscriber|      1987|     1|   0|\n",
            "|         932|2019-01-01 00:14:...|2019-01-01 00:29:...|             379|     W 31 St & 7 Ave|             40.749156|               -73.9916|           336|Sullivan St & Was...|         40.73047747|         -73.99906065| 35148|Subscriber|      1986|     1|   0|\n",
            "|         209|2019-01-01 00:15:...|2019-01-01 00:18:...|             438| St Marks Pl & 1 Ave|           40.72779126|           -73.98564945|           301|   E 2 St & Avenue B|         40.72217444|         -73.98368779| 34416|Subscriber|      1998|     2|   0|\n",
            "|         976|2019-01-01 00:15:...|2019-01-01 00:31:...|            3452|Bayard St & Leona...|     40.71915571696044|     -73.94885390996933|           251| Mott St & Prince St|         40.72317958|         -73.99480012| 35685|Subscriber|      1994|     1|   0|\n",
            "|          97|2019-01-01 00:15:...|2019-01-01 00:17:...|            3430|Richardson St & N...|     40.71907891179564|     -73.94223690032959|          3095|Graham Ave & Herb...|         40.71929301|         -73.94500379| 34307|Subscriber|      1988|     1|   0|\n",
            "|         467|2019-01-01 00:16:...|2019-01-01 00:24:...|             507|     E 25 St & 2 Ave|           40.73912601|           -73.97973776|           492|     W 33 St & 7 Ave|         40.75019995|         -73.99093085| 35561|Subscriber|      1989|     1|   0|\n",
            "|         348|2019-01-01 00:17:...|2019-01-01 00:23:...|            3095|Graham Ave & Herb...|           40.71929301|           -73.94500379|          3101|N 12 St & Bedford...|         40.72079821|         -73.95484712| 35695|Subscriber|      1988|     1|   0|\n",
            "|         505|2019-01-01 00:18:...|2019-01-01 00:27:...|            3132|E 59 St & Madison...|           40.76350532|           -73.97109243|           359|  E 47 St & Park Ave|         40.75510267|         -73.97498696| 31801|Subscriber|      1981|     1|   0|\n",
            "|        3494|2019-01-01 00:18:...|2019-01-01 01:17:...|            3171|Amsterdam Ave & W...|           40.78524672|           -73.97667321|          3164|Columbus Ave & W ...|          40.7770575|         -73.97898475| 35785|Subscriber|      1954|     1|   0|\n",
            "|         829|2019-01-01 00:19:...|2019-01-01 00:32:...|            3165|Central Park West...|     40.77579376683666|      -73.9762057363987|          3295|Central Park W & ...|            40.79127|           -73.964839| 32106|Subscriber|      1969|     0|   0|\n",
            "|         451|2019-01-01 00:21:...|2019-01-01 00:28:...|             403|      E 2 St & 2 Ave|           40.72502876|           -73.99069656|           545|     E 23 St & 1 Ave|           40.736502|         -73.97809472| 32038|Subscriber|      1985|     1|   0|\n",
            "+------------+--------------------+--------------------+----------------+--------------------+----------------------+-----------------------+--------------+--------------------+--------------------+---------------------+------+----------+----------+------+----+\n",
            "only showing top 20 rows\n",
            "\n"
          ],
          "name": "stdout"
        }
      ]
    },
    {
      "cell_type": "code",
      "metadata": {
        "id": "RtMnclC6kiKM"
      },
      "source": [
        "morning_count = df.filter(df['starttime'] >= '2019-01-01').filter(df['hour'] < '4')"
      ],
      "execution_count": 137,
      "outputs": []
    },
    {
      "cell_type": "code",
      "metadata": {
        "colab": {
          "base_uri": "https://localhost:8080/"
        },
        "id": "G69ky656mv6h",
        "outputId": "01268444-8217-4cb4-9a64-abeedc8c0a9d"
      },
      "source": [
        "morning_count.groupBy(morning_count['usertype']).count().show()"
      ],
      "execution_count": 135,
      "outputs": [
        {
          "output_type": "stream",
          "text": [
            "+----------+------+\n",
            "|  usertype| count|\n",
            "+----------+------+\n",
            "|Subscriber|322412|\n",
            "|  Customer| 74022|\n",
            "+----------+------+\n",
            "\n"
          ],
          "name": "stdout"
        }
      ]
    },
    {
      "cell_type": "code",
      "metadata": {
        "id": "iMgOL4mSoD7I"
      },
      "source": [
        "morning_count_02 = df.filter(df['starttime'] >= '2019-01-01').filter(df['hour'] >= '4').filter(df['hour'] < '8')"
      ],
      "execution_count": 138,
      "outputs": []
    },
    {
      "cell_type": "code",
      "metadata": {
        "colab": {
          "base_uri": "https://localhost:8080/"
        },
        "id": "jHvBqSNdoQkC",
        "outputId": "b6493910-91f3-4773-e0d8-078cedab224f"
      },
      "source": [
        "table_02 = morning_count_02.groupBy(morning_count['usertype']).count().show()"
      ],
      "execution_count": 198,
      "outputs": [
        {
          "output_type": "stream",
          "text": [
            "+----------+-------+\n",
            "|  usertype|  count|\n",
            "+----------+-------+\n",
            "|Subscriber|1492045|\n",
            "|  Customer|  69165|\n",
            "+----------+-------+\n",
            "\n"
          ],
          "name": "stdout"
        }
      ]
    },
    {
      "cell_type": "code",
      "metadata": {
        "id": "oyhnkN0PrLKu"
      },
      "source": [
        "afternoon_count = df.filter(df['starttime'] >= '2019-01-01').filter(df['hour'] >= '8').filter(df['hour'] < '12')"
      ],
      "execution_count": 140,
      "outputs": []
    },
    {
      "cell_type": "code",
      "metadata": {
        "colab": {
          "base_uri": "https://localhost:8080/"
        },
        "id": "QQ7tmwvcrTIs",
        "outputId": "d6da5a38-5b36-4a67-c92f-453778857cd2"
      },
      "source": [
        "afternoon_count.groupBy(morning_count['usertype']).count().show()"
      ],
      "execution_count": 149,
      "outputs": [
        {
          "output_type": "stream",
          "text": [
            "+----------+-------+\n",
            "|  usertype|  count|\n",
            "+----------+-------+\n",
            "|Subscriber|4335299|\n",
            "|  Customer| 517028|\n",
            "+----------+-------+\n",
            "\n"
          ],
          "name": "stdout"
        }
      ]
    },
    {
      "cell_type": "code",
      "metadata": {
        "id": "u1olAQQesKJn"
      },
      "source": [
        "afternoon_count_02 = df.filter(df['starttime'] >= '2019-01-01').filter(df['hour'] >= '12').filter(df['hour'] < '16')"
      ],
      "execution_count": 143,
      "outputs": []
    },
    {
      "cell_type": "code",
      "metadata": {
        "colab": {
          "base_uri": "https://localhost:8080/"
        },
        "id": "9M0yVeRksUxV",
        "outputId": "92ab02da-ddd3-41f7-f5bf-a111e2c0618c"
      },
      "source": [
        "afternoon_count_02.groupBy(morning_count['usertype']).count().show()"
      ],
      "execution_count": 144,
      "outputs": [
        {
          "output_type": "stream",
          "text": [
            "+----------+-------+\n",
            "|  usertype|  count|\n",
            "+----------+-------+\n",
            "|Subscriber|3794533|\n",
            "|  Customer| 966961|\n",
            "+----------+-------+\n",
            "\n"
          ],
          "name": "stdout"
        }
      ]
    },
    {
      "cell_type": "code",
      "metadata": {
        "id": "3BjQCFzIs152"
      },
      "source": [
        "night_count = df.filter(df['starttime'] >= '2019-01-01').filter(df['hour'] >= '16').filter(df['hour'] < '20')"
      ],
      "execution_count": 145,
      "outputs": []
    },
    {
      "cell_type": "code",
      "metadata": {
        "colab": {
          "base_uri": "https://localhost:8080/"
        },
        "id": "Cdw_XZlqs-9y",
        "outputId": "12f807bf-4617-4597-8b9d-e3443faf0b43"
      },
      "source": [
        "night_count.groupBy(morning_count['usertype']).count().show()"
      ],
      "execution_count": 146,
      "outputs": [
        {
          "output_type": "stream",
          "text": [
            "+----------+-------+\n",
            "|  usertype|  count|\n",
            "+----------+-------+\n",
            "|Subscriber|5742166|\n",
            "|  Customer| 910988|\n",
            "+----------+-------+\n",
            "\n"
          ],
          "name": "stdout"
        }
      ]
    },
    {
      "cell_type": "code",
      "metadata": {
        "id": "LP0uVdmYtc-1"
      },
      "source": [
        "night_count_02 = df.filter(df['starttime'] >= '2019-01-01').filter(df['hour'] >= '20').filter(df['hour'] < '24')"
      ],
      "execution_count": 147,
      "outputs": []
    },
    {
      "cell_type": "code",
      "metadata": {
        "colab": {
          "base_uri": "https://localhost:8080/"
        },
        "id": "XJVO4YYNtjpS",
        "outputId": "b97bd802-a3fd-4061-d06d-7b65f060ae28"
      },
      "source": [
        "night_count_02.groupBy(morning_count['usertype']).count().show()"
      ],
      "execution_count": 148,
      "outputs": [
        {
          "output_type": "stream",
          "text": [
            "+----------+-------+\n",
            "|  usertype|  count|\n",
            "+----------+-------+\n",
            "|Subscriber|1993066|\n",
            "|  Customer| 334012|\n",
            "+----------+-------+\n",
            "\n"
          ],
          "name": "stdout"
        }
      ]
    },
    {
      "cell_type": "code",
      "metadata": {
        "colab": {
          "base_uri": "https://localhost:8080/"
        },
        "id": "wMTXywzAwz3d",
        "outputId": "cd71dcf5-47c5-4540-8c98-4a97317092ca"
      },
      "source": [
        "user_count = df.groupBy('usertype').count().show()\n",
        "user_count"
      ],
      "execution_count": 118,
      "outputs": [
        {
          "output_type": "stream",
          "text": [
            "+----------+--------+\n",
            "|  usertype|   count|\n",
            "+----------+--------+\n",
            "|Subscriber|17679521|\n",
            "|  Customer| 2872176|\n",
            "+----------+--------+\n",
            "\n"
          ],
          "name": "stdout"
        }
      ]
    },
    {
      "cell_type": "code",
      "metadata": {
        "colab": {
          "base_uri": "https://localhost:8080/"
        },
        "id": "f911s_H9-7Pe",
        "outputId": "7993c41c-0f96-4200-80fd-070d3e4af920"
      },
      "source": [
        "df_string.groupBy('usertype').count().show()"
      ],
      "execution_count": null,
      "outputs": [
        {
          "output_type": "stream",
          "text": [
            "+----------+-------+\n",
            "|  usertype|  count|\n",
            "+----------+-------+\n",
            "|Subscriber|1854228|\n",
            "|  Customer|  80346|\n",
            "+----------+-------+\n",
            "\n"
          ],
          "name": "stdout"
        }
      ]
    },
    {
      "cell_type": "code",
      "metadata": {
        "id": "KL7FdwCW1ulK"
      },
      "source": [
        "from pyspark.sql.functions import avg\n",
        "pd_df = df.select(\"usertype\",\"tripduration\").groupBy(\"usertype\").agg(avg(\"tripduration\")).toPandas()\n"
      ],
      "execution_count": 194,
      "outputs": []
    },
    {
      "cell_type": "code",
      "metadata": {
        "id": "UsWWK1Oe9wXh"
      },
      "source": [
        "morning_df = morning_count_02.groupBy(morning_count['usertype']).count().toPandas()"
      ],
      "execution_count": 200,
      "outputs": []
    },
    {
      "cell_type": "code",
      "metadata": {
        "colab": {
          "base_uri": "https://localhost:8080/",
          "height": 279
        },
        "id": "x03Ot8RL7Ak7",
        "outputId": "3478aefd-71a9-402e-ca08-796bebdc876b"
      },
      "source": [
        "pd_df.plot(kind = 'bar')"
      ],
      "execution_count": 195,
      "outputs": [
        {
          "output_type": "execute_result",
          "data": {
            "text/plain": [
              "<matplotlib.axes._subplots.AxesSubplot at 0x7f0f5a74e890>"
            ]
          },
          "metadata": {
            "tags": []
          },
          "execution_count": 195
        },
        {
          "output_type": "display_data",
          "data": {
            "image/png": "[encoded data removed]",
            "text/plain": [
              "<Figure size 432x288 with 1 Axes>"
            ]
          },
          "metadata": {
            "tags": [],
            "needs_background": "light"
          }
        }
      ]
    },
    {
      "cell_type": "code",
      "metadata": {
        "colab": {
          "base_uri": "https://localhost:8080/",
          "height": 351
        },
        "id": "bUvHR-d29nkx",
        "outputId": "d0697d2d-a1be-4e4d-d19a-53bdd2778f30"
      },
      "source": [
        "morning_df.plot(kind = 'bar')"
      ],
      "execution_count": 203,
      "outputs": [
        {
          "output_type": "execute_result",
          "data": {
            "text/plain": [
              "<matplotlib.axes._subplots.AxesSubplot at 0x7f0f5a693810>"
            ]
          },
          "metadata": {
            "tags": []
          },
          "execution_count": 203
        },
        {
          "output_type": "display_data",
          "data": {
            "image/png": "[encoded data removed]",
            "text/plain": [
              "<Figure size 432x288 with 1 Axes>"
            ]
          },
          "metadata": {
            "tags": [],
            "needs_background": "light"
          }
        }
      ]
    }
  ]
}