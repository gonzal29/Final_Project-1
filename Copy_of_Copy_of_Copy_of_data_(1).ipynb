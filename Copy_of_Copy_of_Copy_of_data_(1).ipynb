{
  "nbformat": 4,
  "nbformat_minor": 0,
  "metadata": {
    "colab": {
      "name": "Copy_of_Copy_of_Copy_of_data (1).ipynb",
      "provenance": [],
      "collapsed_sections": []
    },
    "kernelspec": {
      "display_name": "Python 3",
      "language": "python",
      "name": "python3"
    },
    "language_info": {
      "codemirror_mode": {
        "name": "ipython",
        "version": 3
      },
      "file_extension": ".py",
      "mimetype": "text/x-python",
      "name": "python",
      "nbconvert_exporter": "python",
      "pygments_lexer": "ipython3",
      "version": "3.8.3"
    },
    "varInspector": {
      "cols": {
        "lenName": 16,
        "lenType": 16,
        "lenVar": 40
      },
      "kernels_config": {
        "python": {
          "delete_cmd_postfix": "",
          "delete_cmd_prefix": "del ",
          "library": "var_list.py",
          "varRefreshCmd": "print(var_dic_list())"
        },
        "r": {
          "delete_cmd_postfix": ") ",
          "delete_cmd_prefix": "rm(",
          "library": "var_list.r",
          "varRefreshCmd": "cat(var_dic_list()) "
        }
      },
      "types_to_exclude": [
        "module",
        "function",
        "builtin_function_or_method",
        "instance",
        "_Feature"
      ],
      "window_display": false
    }
  },
  "cells": [
    {
      "cell_type": "code",
      "metadata": {
        "id": "8Ba5cHmgjpn7"
      },
      "source": [
        "\n",
        "import subprocess\n",
        "import numpy as np\n",
        "import pandas as pd\n",
        "import os"
      ],
      "execution_count": 39,
      "outputs": []
    },
    {
      "cell_type": "code",
      "metadata": {
        "colab": {
          "base_uri": "https://localhost:8080/"
        },
        "id": "KBPgjkuhYR6B",
        "outputId": "0951b1fe-6ca3-463e-b2fd-2a824cfe2ba7"
      },
      "source": [
        "spark_version = 'spark-3.1.1'\n",
        "os.environ['SPARK_VERSION']=spark_version\n",
        "\n",
        "# Install Spark and Java\n",
        "!apt-get update\n",
        "!apt-get install openjdk-11-jdk-headless -qq > /dev/null\n",
        "!wget -q http://www-us.apache.org/dist/spark/$SPARK_VERSION/$SPARK_VERSION-bin-hadoop2.7.tgz\n",
        "!tar xf $SPARK_VERSION-bin-hadoop2.7.tgz\n",
        "!pip install -q findspark\n",
        "\n",
        "# Set Environment Variables\n",
        "os.environ[\"JAVA_HOME\"] = \"/usr/lib/jvm/java-11-openjdk-amd64\"\n",
        "os.environ[\"SPARK_HOME\"] = f\"/content/{spark_version}-bin-hadoop2.7\"\n",
        "\n",
        "# Start a SparkSession\n",
        "import findspark\n",
        "findspark.init()"
      ],
      "execution_count": 40,
      "outputs": [
        {
          "output_type": "stream",
          "text": [
            "\r0% [Working]\r            \rHit:1 http://security.ubuntu.com/ubuntu bionic-security InRelease\n",
            "Ign:2 https://developer.download.nvidia.com/compute/cuda/repos/ubuntu1804/x86_64  InRelease\n",
            "Hit:3 http://ppa.launchpad.net/c2d4u.team/c2d4u4.0+/ubuntu bionic InRelease\n",
            "Hit:4 https://cloud.r-project.org/bin/linux/ubuntu bionic-cran40/ InRelease\n",
            "Hit:5 http://archive.ubuntu.com/ubuntu bionic InRelease\n",
            "Ign:6 https://developer.download.nvidia.com/compute/machine-learning/repos/ubuntu1804/x86_64  InRelease\n",
            "Hit:7 https://developer.download.nvidia.com/compute/cuda/repos/ubuntu1804/x86_64  Release\n",
            "Hit:8 https://developer.download.nvidia.com/compute/machine-learning/repos/ubuntu1804/x86_64  Release\n",
            "Hit:9 http://archive.ubuntu.com/ubuntu bionic-updates InRelease\n",
            "Hit:10 http://ppa.launchpad.net/cran/libgit2/ubuntu bionic InRelease\n",
            "Hit:11 http://archive.ubuntu.com/ubuntu bionic-backports InRelease\n",
            "Hit:12 http://ppa.launchpad.net/deadsnakes/ppa/ubuntu bionic InRelease\n",
            "Hit:13 http://ppa.launchpad.net/graphics-drivers/ppa/ubuntu bionic InRelease\n",
            "Reading package lists... Done\n"
          ],
          "name": "stdout"
        }
      ]
    },
    {
      "cell_type": "code",
      "metadata": {
        "colab": {
          "base_uri": "https://localhost:8080/",
          "height": 206
        },
        "id": "b-H_Ja9jGSdR",
        "outputId": "5bf37b61-ba09-4eb4-c861-ac858f583cd0"
      },
      "source": [
        "dfUrls = pd.read_csv(\"urls_to_get.csv\")\n",
        "dfUrls.head()"
      ],
      "execution_count": 41,
      "outputs": [
        {
          "output_type": "execute_result",
          "data": {
            "text/html": [
              "<div>\n",
              "<style scoped>\n",
              "    .dataframe tbody tr th:only-of-type {\n",
              "        vertical-align: middle;\n",
              "    }\n",
              "\n",
              "    .dataframe tbody tr th {\n",
              "        vertical-align: top;\n",
              "    }\n",
              "\n",
              "    .dataframe thead th {\n",
              "        text-align: right;\n",
              "    }\n",
              "</style>\n",
              "<table border=\"1\" class=\"dataframe\">\n",
              "  <thead>\n",
              "    <tr style=\"text-align: right;\">\n",
              "      <th></th>\n",
              "      <th>urls</th>\n",
              "    </tr>\n",
              "  </thead>\n",
              "  <tbody>\n",
              "    <tr>\n",
              "      <th>0</th>\n",
              "      <td>https://s3.amazonaws.com/tripdata/201901-citib...</td>\n",
              "    </tr>\n",
              "    <tr>\n",
              "      <th>1</th>\n",
              "      <td>https://s3.amazonaws.com/tripdata/201902-citib...</td>\n",
              "    </tr>\n",
              "    <tr>\n",
              "      <th>2</th>\n",
              "      <td>https://s3.amazonaws.com/tripdata/201903-citib...</td>\n",
              "    </tr>\n",
              "    <tr>\n",
              "      <th>3</th>\n",
              "      <td>https://s3.amazonaws.com/tripdata/201904-citib...</td>\n",
              "    </tr>\n",
              "    <tr>\n",
              "      <th>4</th>\n",
              "      <td>https://s3.amazonaws.com/tripdata/201905-citib...</td>\n",
              "    </tr>\n",
              "  </tbody>\n",
              "</table>\n",
              "</div>"
            ],
            "text/plain": [
              "                                                urls\n",
              "0  https://s3.amazonaws.com/tripdata/201901-citib...\n",
              "1  https://s3.amazonaws.com/tripdata/201902-citib...\n",
              "2  https://s3.amazonaws.com/tripdata/201903-citib...\n",
              "3  https://s3.amazonaws.com/tripdata/201904-citib...\n",
              "4  https://s3.amazonaws.com/tripdata/201905-citib..."
            ]
          },
          "metadata": {
            "tags": []
          },
          "execution_count": 41
        }
      ]
    },
    {
      "cell_type": "markdown",
      "metadata": {
        "id": "8C33zt2TWefq"
      },
      "source": [
        "# New Section"
      ]
    },
    {
      "cell_type": "markdown",
      "metadata": {
        "id": "lZwgy10CWffk"
      },
      "source": [
        "# New Section"
      ]
    },
    {
      "cell_type": "code",
      "metadata": {
        "id": "9qFBkxeaWhwX",
        "colab": {
          "base_uri": "https://localhost:8080/"
        },
        "outputId": "e0acba33-a984-49a7-c774-3f74b1ae50dd"
      },
      "source": [
        "from google.colab import drive\n",
        "drive.mount('/content/drive')"
      ],
      "execution_count": 42,
      "outputs": [
        {
          "output_type": "stream",
          "text": [
            "Drive already mounted at /content/drive; to attempt to forcibly remount, call drive.mount(\"/content/drive\", force_remount=True).\n"
          ],
          "name": "stdout"
        }
      ]
    },
    {
      "cell_type": "code",
      "metadata": {
        "colab": {
          "base_uri": "https://localhost:8080/"
        },
        "id": "XyUv4abqjkof",
        "outputId": "9e1d6137-570d-4cf6-fd93-f94c09115b90"
      },
      "source": [
        "for i,row in dfUrls.iterrows():\n",
        "  print(row['urls'])\n",
        "  subprocess.run(['wget',row['urls']])\n",
        "  subprocess.run(['unzip',row['urls'].split(\"/\")[-1]])"
      ],
      "execution_count": 43,
      "outputs": [
        {
          "output_type": "stream",
          "text": [
            "https://s3.amazonaws.com/tripdata/201901-citibike-tripdata.csv.zip\n",
            "https://s3.amazonaws.com/tripdata/201902-citibike-tripdata.csv.zip\n",
            "https://s3.amazonaws.com/tripdata/201903-citibike-tripdata.csv.zip\n",
            "https://s3.amazonaws.com/tripdata/201904-citibike-tripdata.csv.zip\n",
            "https://s3.amazonaws.com/tripdata/201905-citibike-tripdata.csv.zip\n",
            "https://s3.amazonaws.com/tripdata/201906-citibike-tripdata.csv.zip\n",
            "https://s3.amazonaws.com/tripdata/201907-citibike-tripdata.csv.zip\n",
            "https://s3.amazonaws.com/tripdata/201908-citibike-tripdata.csv.zip\n",
            "https://s3.amazonaws.com/tripdata/201909-citibike-tripdata.csv.zip\n",
            "https://s3.amazonaws.com/tripdata/201910-citibike-tripdata.csv.zip\n",
            "https://s3.amazonaws.com/tripdata/201911-citibike-tripdata.csv.zip\n",
            "https://s3.amazonaws.com/tripdata/201912-citibike-tripdata.csv.zip\n"
          ],
          "name": "stdout"
        }
      ]
    },
    {
      "cell_type": "code",
      "metadata": {
        "colab": {
          "base_uri": "https://localhost:8080/"
        },
        "id": "QHYBC46Xjkom",
        "outputId": "2b190787-37bb-4ff1-9f12-c87b58205fce"
      },
      "source": [
        "result = subprocess.run([\"ls\"],capture_output=True,text=True)\n",
        "print(result.stdout)"
      ],
      "execution_count": 44,
      "outputs": [
        {
          "output_type": "stream",
          "text": [
            "201901-citibike-tripdata.csv\n",
            "201901-citibike-tripdata.csv.zip\n",
            "201901-citibike-tripdata.csv.zip.1\n",
            "201901-citibike-tripdata.csv.zip.2\n",
            "201902-citibike-tripdata.csv\n",
            "201902-citibike-tripdata.csv.zip\n",
            "201902-citibike-tripdata.csv.zip.1\n",
            "201902-citibike-tripdata.csv.zip.2\n",
            "201903-citibike-tripdata.csv\n",
            "201903-citibike-tripdata.csv.zip\n",
            "201903-citibike-tripdata.csv.zip.1\n",
            "201903-citibike-tripdata.csv.zip.2\n",
            "201904-citibike-tripdata.csv\n",
            "201904-citibike-tripdata.csv.zip\n",
            "201904-citibike-tripdata.csv.zip.1\n",
            "201904-citibike-tripdata.csv.zip.2\n",
            "201905-citibike-tripdata.csv\n",
            "201905-citibike-tripdata.csv.zip\n",
            "201905-citibike-tripdata.csv.zip.1\n",
            "201905-citibike-tripdata.csv.zip.2\n",
            "201906-citibike-tripdata.csv\n",
            "201906-citibike-tripdata.csv.zip\n",
            "201906-citibike-tripdata.csv.zip.1\n",
            "201906-citibike-tripdata.csv.zip.2\n",
            "201907-citibike-tripdata.csv\n",
            "201907-citibike-tripdata.csv.zip\n",
            "201907-citibike-tripdata.csv.zip.1\n",
            "201907-citibike-tripdata.csv.zip.2\n",
            "201908-citibike-tripdata.csv\n",
            "201908-citibike-tripdata.csv.zip\n",
            "201908-citibike-tripdata.csv.zip.1\n",
            "201908-citibike-tripdata.csv.zip.2\n",
            "201909-citibike-tripdata.csv\n",
            "201909-citibike-tripdata.csv.zip\n",
            "201909-citibike-tripdata.csv.zip.1\n",
            "201909-citibike-tripdata.csv.zip.2\n",
            "201910-citibike-tripdata.csv\n",
            "201910-citibike-tripdata.csv.zip\n",
            "201910-citibike-tripdata.csv.zip.1\n",
            "201910-citibike-tripdata.csv.zip.2\n",
            "201911-citibike-tripdata.csv\n",
            "201911-citibike-tripdata.csv.zip\n",
            "201911-citibike-tripdata.csv.zip.1\n",
            "201911-citibike-tripdata.csv.zip.2\n",
            "201912-citibike-tripdata.csv\n",
            "201912-citibike-tripdata.csv.zip\n",
            "201912-citibike-tripdata.csv.zip.1\n",
            "201912-citibike-tripdata.csv.zip.2\n",
            "drive\n",
            "__MACOSX\n",
            "sample_data\n",
            "spark-3.1.1-bin-hadoop2.7\n",
            "spark-3.1.1-bin-hadoop2.7.tgz\n",
            "spark-3.1.1-bin-hadoop2.7.tgz.1\n",
            "urls_to_get.csv\n",
            "\n"
          ],
          "name": "stdout"
        }
      ]
    },
    {
      "cell_type": "code",
      "metadata": {
        "colab": {
          "base_uri": "https://localhost:8080/",
          "height": 738
        },
        "id": "DqpXq9MQjkoq",
        "outputId": "604b178a-f0dc-4147-ac8a-3d336e027cd8"
      },
      "source": [
        "df = pd.read_csv(\"201903-citibike-tripdata.csv\")\n",
        "df"
      ],
      "execution_count": 45,
      "outputs": [
        {
          "output_type": "execute_result",
          "data": {
            "text/html": [
              "<div>\n",
              "<style scoped>\n",
              "    .dataframe tbody tr th:only-of-type {\n",
              "        vertical-align: middle;\n",
              "    }\n",
              "\n",
              "    .dataframe tbody tr th {\n",
              "        vertical-align: top;\n",
              "    }\n",
              "\n",
              "    .dataframe thead th {\n",
              "        text-align: right;\n",
              "    }\n",
              "</style>\n",
              "<table border=\"1\" class=\"dataframe\">\n",
              "  <thead>\n",
              "    <tr style=\"text-align: right;\">\n",
              "      <th></th>\n",
              "      <th>tripduration</th>\n",
              "      <th>starttime</th>\n",
              "      <th>stoptime</th>\n",
              "      <th>start station id</th>\n",
              "      <th>start station name</th>\n",
              "      <th>start station latitude</th>\n",
              "      <th>start station longitude</th>\n",
              "      <th>end station id</th>\n",
              "      <th>end station name</th>\n",
              "      <th>end station latitude</th>\n",
              "      <th>end station longitude</th>\n",
              "      <th>bikeid</th>\n",
              "      <th>usertype</th>\n",
              "      <th>birth year</th>\n",
              "      <th>gender</th>\n",
              "    </tr>\n",
              "  </thead>\n",
              "  <tbody>\n",
              "    <tr>\n",
              "      <th>0</th>\n",
              "      <td>1463</td>\n",
              "      <td>2019-03-01 00:00:16.0970</td>\n",
              "      <td>2019-03-01 00:24:39.3880</td>\n",
              "      <td>319.0</td>\n",
              "      <td>Fulton St &amp; Broadway</td>\n",
              "      <td>40.711066</td>\n",
              "      <td>-74.009447</td>\n",
              "      <td>347.0</td>\n",
              "      <td>Greenwich St &amp; W Houston St</td>\n",
              "      <td>40.728846</td>\n",
              "      <td>-74.008591</td>\n",
              "      <td>35618</td>\n",
              "      <td>Subscriber</td>\n",
              "      <td>1989</td>\n",
              "      <td>1</td>\n",
              "    </tr>\n",
              "    <tr>\n",
              "      <th>1</th>\n",
              "      <td>285</td>\n",
              "      <td>2019-03-01 00:00:32.3850</td>\n",
              "      <td>2019-03-01 00:05:18.1830</td>\n",
              "      <td>439.0</td>\n",
              "      <td>E 4 St &amp; 2 Ave</td>\n",
              "      <td>40.726281</td>\n",
              "      <td>-73.989780</td>\n",
              "      <td>150.0</td>\n",
              "      <td>E 2 St &amp; Avenue C</td>\n",
              "      <td>40.720874</td>\n",
              "      <td>-73.980858</td>\n",
              "      <td>31113</td>\n",
              "      <td>Subscriber</td>\n",
              "      <td>1980</td>\n",
              "      <td>1</td>\n",
              "    </tr>\n",
              "    <tr>\n",
              "      <th>2</th>\n",
              "      <td>686</td>\n",
              "      <td>2019-03-01 00:00:47.7970</td>\n",
              "      <td>2019-03-01 00:12:14.3090</td>\n",
              "      <td>526.0</td>\n",
              "      <td>E 33 St &amp; 5 Ave</td>\n",
              "      <td>40.747659</td>\n",
              "      <td>-73.984907</td>\n",
              "      <td>3474.0</td>\n",
              "      <td>6 Ave &amp; Spring St</td>\n",
              "      <td>40.725256</td>\n",
              "      <td>-74.004121</td>\n",
              "      <td>19617</td>\n",
              "      <td>Subscriber</td>\n",
              "      <td>1987</td>\n",
              "      <td>1</td>\n",
              "    </tr>\n",
              "    <tr>\n",
              "      <th>3</th>\n",
              "      <td>442</td>\n",
              "      <td>2019-03-01 00:01:01.2090</td>\n",
              "      <td>2019-03-01 00:08:23.7510</td>\n",
              "      <td>3474.0</td>\n",
              "      <td>6 Ave &amp; Spring St</td>\n",
              "      <td>40.725256</td>\n",
              "      <td>-74.004121</td>\n",
              "      <td>355.0</td>\n",
              "      <td>Bayard St &amp; Baxter St</td>\n",
              "      <td>40.716021</td>\n",
              "      <td>-73.999744</td>\n",
              "      <td>27086</td>\n",
              "      <td>Subscriber</td>\n",
              "      <td>1987</td>\n",
              "      <td>2</td>\n",
              "    </tr>\n",
              "    <tr>\n",
              "      <th>4</th>\n",
              "      <td>2913</td>\n",
              "      <td>2019-03-01 00:01:09.2810</td>\n",
              "      <td>2019-03-01 00:49:42.3810</td>\n",
              "      <td>379.0</td>\n",
              "      <td>W 31 St &amp; 7 Ave</td>\n",
              "      <td>40.749156</td>\n",
              "      <td>-73.991600</td>\n",
              "      <td>212.0</td>\n",
              "      <td>W 16 St &amp; The High Line</td>\n",
              "      <td>40.743349</td>\n",
              "      <td>-74.006818</td>\n",
              "      <td>34791</td>\n",
              "      <td>Subscriber</td>\n",
              "      <td>1991</td>\n",
              "      <td>1</td>\n",
              "    </tr>\n",
              "    <tr>\n",
              "      <th>...</th>\n",
              "      <td>...</td>\n",
              "      <td>...</td>\n",
              "      <td>...</td>\n",
              "      <td>...</td>\n",
              "      <td>...</td>\n",
              "      <td>...</td>\n",
              "      <td>...</td>\n",
              "      <td>...</td>\n",
              "      <td>...</td>\n",
              "      <td>...</td>\n",
              "      <td>...</td>\n",
              "      <td>...</td>\n",
              "      <td>...</td>\n",
              "      <td>...</td>\n",
              "      <td>...</td>\n",
              "    </tr>\n",
              "    <tr>\n",
              "      <th>1327955</th>\n",
              "      <td>351</td>\n",
              "      <td>2019-03-31 23:59:30.5850</td>\n",
              "      <td>2019-04-01 00:05:21.7850</td>\n",
              "      <td>3747.0</td>\n",
              "      <td>E 84 St &amp; 3 Ave</td>\n",
              "      <td>40.777554</td>\n",
              "      <td>-73.955128</td>\n",
              "      <td>3351.0</td>\n",
              "      <td>E 102 St &amp; 1 Ave</td>\n",
              "      <td>40.786995</td>\n",
              "      <td>-73.941648</td>\n",
              "      <td>37290</td>\n",
              "      <td>Subscriber</td>\n",
              "      <td>1985</td>\n",
              "      <td>1</td>\n",
              "    </tr>\n",
              "    <tr>\n",
              "      <th>1327956</th>\n",
              "      <td>1943</td>\n",
              "      <td>2019-03-31 23:59:55.3410</td>\n",
              "      <td>2019-04-01 00:32:18.6920</td>\n",
              "      <td>450.0</td>\n",
              "      <td>W 49 St &amp; 8 Ave</td>\n",
              "      <td>40.762272</td>\n",
              "      <td>-73.987882</td>\n",
              "      <td>515.0</td>\n",
              "      <td>W 43 St &amp; 10 Ave</td>\n",
              "      <td>40.760094</td>\n",
              "      <td>-73.994618</td>\n",
              "      <td>34220</td>\n",
              "      <td>Subscriber</td>\n",
              "      <td>1987</td>\n",
              "      <td>1</td>\n",
              "    </tr>\n",
              "    <tr>\n",
              "      <th>1327957</th>\n",
              "      <td>515</td>\n",
              "      <td>2019-03-31 23:59:50.1810</td>\n",
              "      <td>2019-04-01 00:08:25.8330</td>\n",
              "      <td>3542.0</td>\n",
              "      <td>Amsterdam Ave &amp; W 119 St</td>\n",
              "      <td>40.808625</td>\n",
              "      <td>-73.959621</td>\n",
              "      <td>3543.0</td>\n",
              "      <td>Morningside Dr &amp; Amsterdam Ave</td>\n",
              "      <td>40.810285</td>\n",
              "      <td>-73.957365</td>\n",
              "      <td>37863</td>\n",
              "      <td>Subscriber</td>\n",
              "      <td>1988</td>\n",
              "      <td>1</td>\n",
              "    </tr>\n",
              "    <tr>\n",
              "      <th>1327958</th>\n",
              "      <td>660</td>\n",
              "      <td>2019-03-31 23:59:56.6520</td>\n",
              "      <td>2019-04-01 00:10:57.3760</td>\n",
              "      <td>3434.0</td>\n",
              "      <td>W 88 St &amp; West End Ave</td>\n",
              "      <td>40.790254</td>\n",
              "      <td>-73.977183</td>\n",
              "      <td>3538.0</td>\n",
              "      <td>W 110 St &amp; Amsterdam Ave</td>\n",
              "      <td>40.802692</td>\n",
              "      <td>-73.962950</td>\n",
              "      <td>36103</td>\n",
              "      <td>Subscriber</td>\n",
              "      <td>1987</td>\n",
              "      <td>1</td>\n",
              "    </tr>\n",
              "    <tr>\n",
              "      <th>1327959</th>\n",
              "      <td>132</td>\n",
              "      <td>2019-03-31 23:59:58.0230</td>\n",
              "      <td>2019-04-01 00:02:10.5920</td>\n",
              "      <td>393.0</td>\n",
              "      <td>E 5 St &amp; Avenue C</td>\n",
              "      <td>40.722992</td>\n",
              "      <td>-73.979955</td>\n",
              "      <td>432.0</td>\n",
              "      <td>E 7 St &amp; Avenue A</td>\n",
              "      <td>40.726218</td>\n",
              "      <td>-73.983799</td>\n",
              "      <td>35621</td>\n",
              "      <td>Subscriber</td>\n",
              "      <td>1973</td>\n",
              "      <td>1</td>\n",
              "    </tr>\n",
              "  </tbody>\n",
              "</table>\n",
              "<p>1327960 rows × 15 columns</p>\n",
              "</div>"
            ],
            "text/plain": [
              "         tripduration                 starttime  ... birth year  gender\n",
              "0                1463  2019-03-01 00:00:16.0970  ...       1989       1\n",
              "1                 285  2019-03-01 00:00:32.3850  ...       1980       1\n",
              "2                 686  2019-03-01 00:00:47.7970  ...       1987       1\n",
              "3                 442  2019-03-01 00:01:01.2090  ...       1987       2\n",
              "4                2913  2019-03-01 00:01:09.2810  ...       1991       1\n",
              "...               ...                       ...  ...        ...     ...\n",
              "1327955           351  2019-03-31 23:59:30.5850  ...       1985       1\n",
              "1327956          1943  2019-03-31 23:59:55.3410  ...       1987       1\n",
              "1327957           515  2019-03-31 23:59:50.1810  ...       1988       1\n",
              "1327958           660  2019-03-31 23:59:56.6520  ...       1987       1\n",
              "1327959           132  2019-03-31 23:59:58.0230  ...       1973       1\n",
              "\n",
              "[1327960 rows x 15 columns]"
            ]
          },
          "metadata": {
            "tags": []
          },
          "execution_count": 45
        }
      ]
    },
    {
      "cell_type": "code",
      "metadata": {
        "colab": {
          "base_uri": "https://localhost:8080/",
          "height": 317
        },
        "id": "O7wJU0_Cjkow",
        "outputId": "f29f9f38-fd65-4e0f-fbdc-31ee94ba44b2"
      },
      "source": [
        "df.describe()"
      ],
      "execution_count": 50,
      "outputs": [
        {
          "output_type": "execute_result",
          "data": {
            "text/html": [
              "<div>\n",
              "<style scoped>\n",
              "    .dataframe tbody tr th:only-of-type {\n",
              "        vertical-align: middle;\n",
              "    }\n",
              "\n",
              "    .dataframe tbody tr th {\n",
              "        vertical-align: top;\n",
              "    }\n",
              "\n",
              "    .dataframe thead th {\n",
              "        text-align: right;\n",
              "    }\n",
              "</style>\n",
              "<table border=\"1\" class=\"dataframe\">\n",
              "  <thead>\n",
              "    <tr style=\"text-align: right;\">\n",
              "      <th></th>\n",
              "      <th>tripduration</th>\n",
              "      <th>start station id</th>\n",
              "      <th>start station latitude</th>\n",
              "      <th>start station longitude</th>\n",
              "      <th>end station id</th>\n",
              "      <th>end station latitude</th>\n",
              "      <th>end station longitude</th>\n",
              "      <th>bikeid</th>\n",
              "      <th>birth year</th>\n",
              "      <th>gender</th>\n",
              "    </tr>\n",
              "  </thead>\n",
              "  <tbody>\n",
              "    <tr>\n",
              "      <th>count</th>\n",
              "      <td>1.327960e+06</td>\n",
              "      <td>1.327950e+06</td>\n",
              "      <td>1.327960e+06</td>\n",
              "      <td>1.327960e+06</td>\n",
              "      <td>1.327950e+06</td>\n",
              "      <td>1.327960e+06</td>\n",
              "      <td>1.327960e+06</td>\n",
              "      <td>1.327960e+06</td>\n",
              "      <td>1.327960e+06</td>\n",
              "      <td>1.327960e+06</td>\n",
              "    </tr>\n",
              "    <tr>\n",
              "      <th>mean</th>\n",
              "      <td>8.826577e+02</td>\n",
              "      <td>1.667907e+03</td>\n",
              "      <td>4.073775e+01</td>\n",
              "      <td>-7.398195e+01</td>\n",
              "      <td>1.657309e+03</td>\n",
              "      <td>4.073754e+01</td>\n",
              "      <td>-7.398215e+01</td>\n",
              "      <td>2.989439e+04</td>\n",
              "      <td>1.979394e+03</td>\n",
              "      <td>1.167327e+00</td>\n",
              "    </tr>\n",
              "    <tr>\n",
              "      <th>std</th>\n",
              "      <td>8.571482e+03</td>\n",
              "      <td>1.470691e+03</td>\n",
              "      <td>3.055766e-02</td>\n",
              "      <td>1.887059e-02</td>\n",
              "      <td>1.469614e+03</td>\n",
              "      <td>3.038467e-02</td>\n",
              "      <td>1.891760e-02</td>\n",
              "      <td>6.644938e+03</td>\n",
              "      <td>1.220166e+01</td>\n",
              "      <td>4.971202e-01</td>\n",
              "    </tr>\n",
              "    <tr>\n",
              "      <th>min</th>\n",
              "      <td>6.100000e+01</td>\n",
              "      <td>7.200000e+01</td>\n",
              "      <td>4.065540e+01</td>\n",
              "      <td>-7.401713e+01</td>\n",
              "      <td>7.200000e+01</td>\n",
              "      <td>4.065540e+01</td>\n",
              "      <td>-7.404399e+01</td>\n",
              "      <td>1.452900e+04</td>\n",
              "      <td>1.857000e+03</td>\n",
              "      <td>0.000000e+00</td>\n",
              "    </tr>\n",
              "    <tr>\n",
              "      <th>25%</th>\n",
              "      <td>3.210000e+02</td>\n",
              "      <td>3.850000e+02</td>\n",
              "      <td>4.071882e+01</td>\n",
              "      <td>-7.399462e+01</td>\n",
              "      <td>3.830000e+02</td>\n",
              "      <td>4.071882e+01</td>\n",
              "      <td>-7.399468e+01</td>\n",
              "      <td>2.648400e+04</td>\n",
              "      <td>1.969000e+03</td>\n",
              "      <td>1.000000e+00</td>\n",
              "    </tr>\n",
              "    <tr>\n",
              "      <th>50%</th>\n",
              "      <td>5.390000e+02</td>\n",
              "      <td>5.150000e+02</td>\n",
              "      <td>4.073913e+01</td>\n",
              "      <td>-7.398474e+01</td>\n",
              "      <td>5.140000e+02</td>\n",
              "      <td>4.073913e+01</td>\n",
              "      <td>-7.398516e+01</td>\n",
              "      <td>3.183800e+04</td>\n",
              "      <td>1.982000e+03</td>\n",
              "      <td>1.000000e+00</td>\n",
              "    </tr>\n",
              "    <tr>\n",
              "      <th>75%</th>\n",
              "      <td>9.440000e+02</td>\n",
              "      <td>3.295000e+03</td>\n",
              "      <td>4.075763e+01</td>\n",
              "      <td>-7.397188e+01</td>\n",
              "      <td>3.293000e+03</td>\n",
              "      <td>4.075725e+01</td>\n",
              "      <td>-7.397208e+01</td>\n",
              "      <td>3.522800e+04</td>\n",
              "      <td>1.989000e+03</td>\n",
              "      <td>1.000000e+00</td>\n",
              "    </tr>\n",
              "    <tr>\n",
              "      <th>max</th>\n",
              "      <td>2.969781e+06</td>\n",
              "      <td>3.749000e+03</td>\n",
              "      <td>4.086300e+01</td>\n",
              "      <td>-7.388100e+01</td>\n",
              "      <td>3.749000e+03</td>\n",
              "      <td>4.086300e+01</td>\n",
              "      <td>-7.388100e+01</td>\n",
              "      <td>3.796400e+04</td>\n",
              "      <td>2.003000e+03</td>\n",
              "      <td>2.000000e+00</td>\n",
              "    </tr>\n",
              "  </tbody>\n",
              "</table>\n",
              "</div>"
            ],
            "text/plain": [
              "       tripduration  start station id  ...    birth year        gender\n",
              "count  1.327960e+06      1.327950e+06  ...  1.327960e+06  1.327960e+06\n",
              "mean   8.826577e+02      1.667907e+03  ...  1.979394e+03  1.167327e+00\n",
              "std    8.571482e+03      1.470691e+03  ...  1.220166e+01  4.971202e-01\n",
              "min    6.100000e+01      7.200000e+01  ...  1.857000e+03  0.000000e+00\n",
              "25%    3.210000e+02      3.850000e+02  ...  1.969000e+03  1.000000e+00\n",
              "50%    5.390000e+02      5.150000e+02  ...  1.982000e+03  1.000000e+00\n",
              "75%    9.440000e+02      3.295000e+03  ...  1.989000e+03  1.000000e+00\n",
              "max    2.969781e+06      3.749000e+03  ...  2.003000e+03  2.000000e+00\n",
              "\n",
              "[8 rows x 10 columns]"
            ]
          },
          "metadata": {
            "tags": []
          },
          "execution_count": 50
        }
      ]
    },
    {
      "cell_type": "code",
      "metadata": {
        "colab": {
          "base_uri": "https://localhost:8080/"
        },
        "id": "xHYnBPMqjko0",
        "outputId": "e307d751-74f7-41eb-b3aa-8adc621c30e2"
      },
      "source": [
        "df.columns"
      ],
      "execution_count": 51,
      "outputs": [
        {
          "output_type": "execute_result",
          "data": {
            "text/plain": [
              "Index(['tripduration', 'starttime', 'stoptime', 'start station id',\n",
              "       'start station name', 'start station latitude',\n",
              "       'start station longitude', 'end station id', 'end station name',\n",
              "       'end station latitude', 'end station longitude', 'bikeid', 'usertype',\n",
              "       'birth year', 'gender'],\n",
              "      dtype='object')"
            ]
          },
          "metadata": {
            "tags": []
          },
          "execution_count": 51
        }
      ]
    },
    {
      "cell_type": "code",
      "metadata": {
        "id": "k92zPWKjkGzp",
        "colab": {
          "base_uri": "https://localhost:8080/"
        },
        "outputId": "86fe3ae0-6440-487a-842a-35b2033d3f7b"
      },
      "source": [
        "df.usertype"
      ],
      "execution_count": 52,
      "outputs": [
        {
          "output_type": "execute_result",
          "data": {
            "text/plain": [
              "0          Subscriber\n",
              "1          Subscriber\n",
              "2          Subscriber\n",
              "3          Subscriber\n",
              "4          Subscriber\n",
              "              ...    \n",
              "1327955    Subscriber\n",
              "1327956    Subscriber\n",
              "1327957    Subscriber\n",
              "1327958    Subscriber\n",
              "1327959    Subscriber\n",
              "Name: usertype, Length: 1327960, dtype: object"
            ]
          },
          "metadata": {
            "tags": []
          },
          "execution_count": 52
        }
      ]
    },
    {
      "cell_type": "code",
      "metadata": {
        "colab": {
          "base_uri": "https://localhost:8080/"
        },
        "id": "S9ZEQ_zC1nzC",
        "outputId": "0c3289af-c0ee-4619-e8a5-f2297e7d68d4"
      },
      "source": [
        "user_t = df.usertype.value_counts()\n",
        "user_t"
      ],
      "execution_count": 96,
      "outputs": [
        {
          "output_type": "execute_result",
          "data": {
            "text/plain": [
              "Subscriber    1221302\n",
              "Customer       106658\n",
              "Name: usertype, dtype: int64"
            ]
          },
          "metadata": {
            "tags": []
          },
          "execution_count": 96
        }
      ]
    },
    {
      "cell_type": "code",
      "metadata": {
        "colab": {
          "base_uri": "https://localhost:8080/"
        },
        "id": "PRt2fUSOuhbn",
        "outputId": "d1a7fe67-7046-4640-fed1-48d379272fa0"
      },
      "source": [
        "gender_unique = df[\"gender\"].unique()\n",
        "gender_unique"
      ],
      "execution_count": 82,
      "outputs": [
        {
          "output_type": "execute_result",
          "data": {
            "text/plain": [
              "array([1, 2, 0])"
            ]
          },
          "metadata": {
            "tags": []
          },
          "execution_count": 82
        }
      ]
    },
    {
      "cell_type": "code",
      "metadata": {
        "colab": {
          "base_uri": "https://localhost:8080/"
        },
        "id": "E9W7Sd_n3W1S",
        "outputId": "beeab267-1a2e-4f75-ee78-73207420ab14"
      },
      "source": [
        "df.gender.value_counts()\n"
      ],
      "execution_count": 66,
      "outputs": [
        {
          "output_type": "execute_result",
          "data": {
            "text/plain": [
              "1    962603\n",
              "2    293780\n",
              "0     71577\n",
              "Name: gender, dtype: int64"
            ]
          },
          "metadata": {
            "tags": []
          },
          "execution_count": 66
        }
      ]
    },
    {
      "cell_type": "code",
      "metadata": {
        "colab": {
          "base_uri": "https://localhost:8080/"
        },
        "id": "Hz6zeVOa4z2E",
        "outputId": "cfe0e7e9-d261-424c-d77a-2955ce25b9b0"
      },
      "source": [
        "df.bikeid.value_counts()"
      ],
      "execution_count": 72,
      "outputs": [
        {
          "output_type": "execute_result",
          "data": {
            "text/plain": [
              "35641    545\n",
              "36624    503\n",
              "36696    497\n",
              "36102    494\n",
              "35737    487\n",
              "        ... \n",
              "33863      1\n",
              "37957      1\n",
              "28294      1\n",
              "37959      1\n",
              "19788      1\n",
              "Name: bikeid, Length: 13966, dtype: int64"
            ]
          },
          "metadata": {
            "tags": []
          },
          "execution_count": 72
        }
      ]
    },
    {
      "cell_type": "code",
      "metadata": {
        "colab": {
          "base_uri": "https://localhost:8080/"
        },
        "id": "cjVM1l7589gc",
        "outputId": "b6e65acf-0d53-4e14-c2d3-93e8fb627305"
      },
      "source": [
        "birthday_user_u = df[\"birth year\"].unique()\n",
        "birthday_user_u"
      ],
      "execution_count": 80,
      "outputs": [
        {
          "output_type": "execute_result",
          "data": {
            "text/plain": [
              "array([1989, 1980, 1987, 1991, 1986, 1974, 1985, 1995, 1982, 1977, 1971,\n",
              "       1963, 1994, 1976, 1979, 1993, 1988, 1962, 1999, 1967, 1981, 1992,\n",
              "       1984, 1972, 1990, 1983, 1996, 1997, 1970, 2000, 1965, 1978, 1960,\n",
              "       1968, 1966, 1959, 1969, 1964, 1975, 1956, 1950, 1961, 1998, 1900,\n",
              "       1942, 1958, 1954, 1955, 1973, 2001, 1952, 1953, 1957, 1951, 1944,\n",
              "       1949, 1948, 1947, 1945, 1901, 2002, 1899, 1939, 1946, 1936, 1943,\n",
              "       1941, 1938, 1896, 1937, 1916, 1940, 1886, 1921, 1924, 1888, 1895,\n",
              "       2003, 1933, 1857, 1935, 1887, 1897, 1910, 1934, 1928, 1890, 1907,\n",
              "       1930, 1912, 1932, 1917, 1920, 1931, 1919, 1918, 1894, 1911, 1923,\n",
              "       1909, 1889, 1885, 1929, 1927, 1906])"
            ]
          },
          "metadata": {
            "tags": []
          },
          "execution_count": 80
        }
      ]
    },
    {
      "cell_type": "code",
      "metadata": {
        "colab": {
          "base_uri": "https://localhost:8080/"
        },
        "id": "AwQYBaFK41zP",
        "outputId": "fbbfdfb8-ab00-4950-8248-c62c7871214d"
      },
      "source": [
        "birthday_user = df[\"birth year\"].value_counts()\n",
        "birthday_user"
      ],
      "execution_count": 78,
      "outputs": [
        {
          "output_type": "execute_result",
          "data": {
            "text/plain": [
              "1969    84464\n",
              "1989    53341\n",
              "1990    52939\n",
              "1988    51929\n",
              "1991    51699\n",
              "        ...  \n",
              "1911        4\n",
              "1920        3\n",
              "1931        2\n",
              "1906        1\n",
              "1929        1\n",
              "Name: birth year, Length: 105, dtype: int64"
            ]
          },
          "metadata": {
            "tags": []
          },
          "execution_count": 78
        }
      ]
    },
    {
      "cell_type": "code",
      "metadata": {
        "colab": {
          "base_uri": "https://localhost:8080/",
          "height": 248
        },
        "id": "QrIzBY8K42Rl",
        "outputId": "2f7a996b-515c-4743-f217-c4040ee64c68"
      },
      "source": [
        "import matplotlib.pyplot as plt\n",
        "counts = df.gender.value_counts()\n",
        "plt.pie(counts.values,labels=[\"Man\",\"Woman\",\"Other\"],autopct='%1.1f%%')\n",
        "plt.show()"
      ],
      "execution_count": 93,
      "outputs": [
        {
          "output_type": "display_data",
          "data": {
            "image/png": "[encoded data removed]",
            "text/plain": [
              "<Figure size 432x288 with 1 Axes>"
            ]
          },
          "metadata": {
            "tags": []
          }
        }
      ]
    },
    {
      "cell_type": "code",
      "metadata": {
        "colab": {
          "base_uri": "https://localhost:8080/",
          "height": 352
        },
        "id": "17qjm1HxC_3e",
        "outputId": "3a9a0832-7d8a-4eb4-d030-569f614de39e"
      },
      "source": [
        "explode = (0.1, 0)\n",
        "colors = [\"red\", \"orange\"]\n",
        "plt.pie(user_t, explode=explode, labels=[\"Subscriber\", \"Customer\"], colors=colors,autopct=\"%1.2f%%\", shadow=True, startangle=90)\n",
        "        "
      ],
      "execution_count": 97,
      "outputs": [
        {
          "output_type": "execute_result",
          "data": {
            "text/plain": [
              "([<matplotlib.patches.Wedge at 0x7fb691d88090>,\n",
              "  <matplotlib.patches.Wedge at 0x7fb691d88b10>],\n",
              " [Text(-0.29958596049523595, -1.1620018297206536, 'Subscriber'),\n",
              "  Text(0.2746205385834926, 1.065168324626729, 'Customer')],\n",
              " [Text(-0.17475847695555427, -0.6778344006703813, '91.97%'),\n",
              "  Text(0.1497930210455414, 0.581000904341852, '8.03%')])"
            ]
          },
          "metadata": {
            "tags": []
          },
          "execution_count": 97
        },
        {
          "output_type": "display_data",
          "data": {
            "image/png": "[encoded data removed]",
            "text/plain": [
              "<Figure size 432x288 with 1 Axes>"
            ]
          },
          "metadata": {
            "tags": []
          }
        }
      ]
    },
    {
      "cell_type": "code",
      "metadata": {
        "id": "GdGXQq9ADzji"
      },
      "source": [
        ""
      ],
      "execution_count": 98,
      "outputs": []
    }
  ]
}